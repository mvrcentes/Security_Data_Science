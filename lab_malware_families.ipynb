{
 "cells": [
  {
   "cell_type": "markdown",
   "metadata": {},
   "source": [
    "# Laboratorio #4 - Familias de Malware"
   ]
  },
  {
   "cell_type": "markdown",
   "metadata": {},
   "source": [
    "# Parte 1"
   ]
  },
  {
   "cell_type": "code",
   "execution_count": 1,
   "metadata": {},
   "outputs": [],
   "source": [
    "import os\n",
    "import pefile\n",
    "import pandas as pd\n",
    "import hashlib\n",
    "import re"
   ]
  },
  {
   "cell_type": "markdown",
   "metadata": {},
   "source": [
    "## Creación del dataset"
   ]
  },
  {
   "cell_type": "code",
   "execution_count": 3,
   "metadata": {},
   "outputs": [
    {
     "name": "stdout",
     "output_type": "stream",
     "text": [
      "🔍 Se encontraron 41 archivos de malware en el directorio.\n"
     ]
    }
   ],
   "source": [
    "MALWARE_DIR = \"./MALWR\"\n",
    "malware_files = [os.path.join(MALWARE_DIR, f) for f in os.listdir(MALWARE_DIR) if os.path.isfile(os.path.join(MALWARE_DIR, f))]\n",
    "\n",
    "print(f\"🔍 Se encontraron {len(malware_files)} archivos de malware en el directorio.\")"
   ]
  },
  {
   "cell_type": "code",
   "execution_count": 6,
   "metadata": {},
   "outputs": [],
   "source": [
    "def detect_packed(pe):\n",
    "    packed_sections = [b\"UPX0\", b\"UPX1\", b\"UPX2\"]\n",
    "    for section in pe.sections:\n",
    "        if section.Name.strip() in packed_sections:\n",
    "            return \"UPX Detected\"\n",
    "    return \"Not Packed\""
   ]
  },
  {
   "cell_type": "code",
   "execution_count": 5,
   "metadata": {},
   "outputs": [],
   "source": [
    "def get_sha256(file_path):\n",
    "    sha256_hash = hashlib.sha256()\n",
    "    with open(file_path, \"rb\") as f:\n",
    "        for byte_block in iter(lambda: f.read(4096), b\"\"):\n",
    "            sha256_hash.update(byte_block)\n",
    "    return sha256_hash.hexdigest()"
   ]
  },
  {
   "cell_type": "code",
   "execution_count": 7,
   "metadata": {},
   "outputs": [],
   "source": [
    "def get_imported_functions(pe):\n",
    "    imported_functions = []\n",
    "    if hasattr(pe, \"DIRECTORY_ENTRY_IMPORT\"):\n",
    "        for entry in pe.DIRECTORY_ENTRY_IMPORT:\n",
    "            for function in entry.imports:\n",
    "                imported_functions.append(function.name.decode(\"utf-8\") if function.name else \"N/A\")\n",
    "    return \", \".join(imported_functions)"
   ]
  },
  {
   "cell_type": "code",
   "execution_count": 8,
   "metadata": {},
   "outputs": [],
   "source": [
    "def detect_suspicious_sections(pe):\n",
    "    for section in pe.sections:\n",
    "        name = section.Name.decode().strip()\n",
    "        size = section.SizeOfRawData\n",
    "        \n",
    "        if name == \".text\" and size < 1024:\n",
    "            return \"Small .text (Possible Packing)\"\n",
    "        if name == \".rsrc\" and size > 1000000:\n",
    "            return \"Large .rsrc (Possible Malware)\"\n",
    "    return \"Normal\""
   ]
  },
  {
   "cell_type": "code",
   "execution_count": 9,
   "metadata": {},
   "outputs": [],
   "source": [
    "def extract_strings(file_path):\n",
    "    with open(file_path, \"rb\") as f:\n",
    "        data = f.read()\n",
    "    \n",
    "    strings = re.findall(b\"[ -~]{4,}\", data)\n",
    "    decoded_strings = [s.decode(\"utf-8\", \"ignore\") for s in strings]\n",
    "    \n",
    "    # Filtrar strings sospechosas (URLs, IPs, comandos maliciosos)\n",
    "    suspicious_keywords = [\"http\", \"ftp\", \"cmd\", \"powershell\", \"wget\", \"curl\", \"0.0.0.0\"]\n",
    "    suspicious_strings = [s for s in decoded_strings if any(k in s for k in suspicious_keywords)]\n",
    "    \n",
    "    return \", \".join(suspicious_strings[:10])  # Limitar la salida"
   ]
  },
  {
   "cell_type": "code",
   "execution_count": 10,
   "metadata": {},
   "outputs": [],
   "source": [
    "def extract_pe_info(file_path):\n",
    "    try:\n",
    "        pe = pefile.PE(file_path)\n",
    "        \n",
    "        # Información del encabezado PE\n",
    "        pe_info = {\n",
    "            \"Filename\": os.path.basename(file_path),\n",
    "            \"SHA256\": get_sha256(file_path),\n",
    "            \"TimeDateStamp\": pe.FILE_HEADER.TimeDateStamp,\n",
    "            \"Subsystem\": pe.OPTIONAL_HEADER.Subsystem,\n",
    "            \"DLLCharacteristics\": pe.OPTIONAL_HEADER.DllCharacteristics,\n",
    "            \"NumberOfSections\": pe.FILE_HEADER.NumberOfSections,\n",
    "            \"Packed\": detect_packed(pe),\n",
    "            \"Imports\": get_imported_functions(pe),\n",
    "            \"Suspicious Sections\": detect_suspicious_sections(pe),\n",
    "            \"Strings\": extract_strings(file_path)\n",
    "        }\n",
    "        \n",
    "        pe.close()\n",
    "        return pe_info\n",
    "    \n",
    "    except Exception as e:\n",
    "        print(f\"⚠️ Error analizando {file_path}: {e}\")\n",
    "        return None"
   ]
  },
  {
   "cell_type": "code",
   "execution_count": 17,
   "metadata": {},
   "outputs": [],
   "source": [
    "\n",
    "dataset = []\n",
    "for file in malware_files:\n",
    "    if not os.path.isfile(file):  # Ignorar archivos inexistentes\n",
    "        continue\n",
    "    pe_data = extract_pe_info(file)\n",
    "    if pe_data:\n",
    "        dataset.append(pe_data)\n",
    "\n",
    "df = pd.DataFrame(dataset)"
   ]
  },
  {
   "cell_type": "code",
   "execution_count": 18,
   "metadata": {},
   "outputs": [
    {
     "name": "stdout",
     "output_type": "stream",
     "text": [
      "✅ Dataset guardado como 'malware_dataset.csv'\n"
     ]
    }
   ],
   "source": [
    "df.to_csv(\"malware_dataset.csv\", index=False)\n",
    "print(\"✅ Dataset guardado como 'malware_dataset.csv'\")"
   ]
  },
  {
   "cell_type": "code",
   "execution_count": 19,
   "metadata": {},
   "outputs": [
    {
     "data": {
      "text/html": [
       "<div>\n",
       "<style scoped>\n",
       "    .dataframe tbody tr th:only-of-type {\n",
       "        vertical-align: middle;\n",
       "    }\n",
       "\n",
       "    .dataframe tbody tr th {\n",
       "        vertical-align: top;\n",
       "    }\n",
       "\n",
       "    .dataframe thead th {\n",
       "        text-align: right;\n",
       "    }\n",
       "</style>\n",
       "<table border=\"1\" class=\"dataframe\">\n",
       "  <thead>\n",
       "    <tr style=\"text-align: right;\">\n",
       "      <th></th>\n",
       "      <th>Filename</th>\n",
       "      <th>SHA256</th>\n",
       "      <th>TimeDateStamp</th>\n",
       "      <th>Subsystem</th>\n",
       "      <th>DLLCharacteristics</th>\n",
       "      <th>NumberOfSections</th>\n",
       "      <th>Packed</th>\n",
       "      <th>Imports</th>\n",
       "      <th>Suspicious Sections</th>\n",
       "      <th>Strings</th>\n",
       "    </tr>\n",
       "  </thead>\n",
       "  <tbody>\n",
       "    <tr>\n",
       "      <th>0</th>\n",
       "      <td>JH78C0A33A1B472A8C16123FD696A5CE5EBB</td>\n",
       "      <td>5566759631e5eaa2833057a5a57caa31837ddee6587386...</td>\n",
       "      <td>1242321160</td>\n",
       "      <td>2</td>\n",
       "      <td>0</td>\n",
       "      <td>3</td>\n",
       "      <td>Not Packed</td>\n",
       "      <td>LoadLibraryA, ExitProcess, GetProcAddress, Vir...</td>\n",
       "      <td>Normal</td>\n",
       "      <td>1http://w, *(SY)# cmd</td>\n",
       "    </tr>\n",
       "    <tr>\n",
       "      <th>1</th>\n",
       "      <td>NBV_8B75BCBFF174C25A0161F30758509A44</td>\n",
       "      <td>aa5cb0e2aab4b8544d43fdf1f26db234c2039caaddb412...</td>\n",
       "      <td>1242321160</td>\n",
       "      <td>2</td>\n",
       "      <td>0</td>\n",
       "      <td>3</td>\n",
       "      <td>Not Packed</td>\n",
       "      <td>LoadLibraryA, ExitProcess, GetProcAddress, Vir...</td>\n",
       "      <td>Normal</td>\n",
       "      <td>1http://w, *(SY)# cmd</td>\n",
       "    </tr>\n",
       "    <tr>\n",
       "      <th>2</th>\n",
       "      <td>POL55_A4F1ECC4D25B33395196B5D51A06790</td>\n",
       "      <td>57ef37c30a4a10b334a745d2f6235b4703ae99cf8e64e1...</td>\n",
       "      <td>1311923431</td>\n",
       "      <td>2</td>\n",
       "      <td>0</td>\n",
       "      <td>3</td>\n",
       "      <td>Not Packed</td>\n",
       "      <td>CreateFileA, LocalAlloc, Sleep, CreateThread, ...</td>\n",
       "      <td>Normal</td>\n",
       "      <td>_acmdln, https, http, YYYYYXYYYYYhttp://eads.r...</td>\n",
       "    </tr>\n",
       "    <tr>\n",
       "      <th>3</th>\n",
       "      <td>6FAA4740F99408D4D2DDDD0B09BBDEFD</td>\n",
       "      <td>41e14883b3a545de6c34c1f14d3856d0e070af9aee7d3b...</td>\n",
       "      <td>1242321160</td>\n",
       "      <td>2</td>\n",
       "      <td>0</td>\n",
       "      <td>3</td>\n",
       "      <td>Not Packed</td>\n",
       "      <td>LoadLibraryA, ExitProcess, GetProcAddress, Vir...</td>\n",
       "      <td>Normal</td>\n",
       "      <td>1http://w, *(SY)# cmd</td>\n",
       "    </tr>\n",
       "    <tr>\n",
       "      <th>4</th>\n",
       "      <td>A316D5AECA269CA865077E7FFF356E7D</td>\n",
       "      <td>ea405f3a14b77297f8b15348a83b1680e72412adc1653d...</td>\n",
       "      <td>1242321160</td>\n",
       "      <td>2</td>\n",
       "      <td>0</td>\n",
       "      <td>3</td>\n",
       "      <td>Not Packed</td>\n",
       "      <td>LoadLibraryA, ExitProcess, GetProcAddress, Vir...</td>\n",
       "      <td>Normal</td>\n",
       "      <td>1http://w, *(SY)# cmd</td>\n",
       "    </tr>\n",
       "  </tbody>\n",
       "</table>\n",
       "</div>"
      ],
      "text/plain": [
       "                                Filename  \\\n",
       "0   JH78C0A33A1B472A8C16123FD696A5CE5EBB   \n",
       "1   NBV_8B75BCBFF174C25A0161F30758509A44   \n",
       "2  POL55_A4F1ECC4D25B33395196B5D51A06790   \n",
       "3       6FAA4740F99408D4D2DDDD0B09BBDEFD   \n",
       "4       A316D5AECA269CA865077E7FFF356E7D   \n",
       "\n",
       "                                              SHA256  TimeDateStamp  \\\n",
       "0  5566759631e5eaa2833057a5a57caa31837ddee6587386...     1242321160   \n",
       "1  aa5cb0e2aab4b8544d43fdf1f26db234c2039caaddb412...     1242321160   \n",
       "2  57ef37c30a4a10b334a745d2f6235b4703ae99cf8e64e1...     1311923431   \n",
       "3  41e14883b3a545de6c34c1f14d3856d0e070af9aee7d3b...     1242321160   \n",
       "4  ea405f3a14b77297f8b15348a83b1680e72412adc1653d...     1242321160   \n",
       "\n",
       "   Subsystem  DLLCharacteristics  NumberOfSections      Packed  \\\n",
       "0          2                   0                 3  Not Packed   \n",
       "1          2                   0                 3  Not Packed   \n",
       "2          2                   0                 3  Not Packed   \n",
       "3          2                   0                 3  Not Packed   \n",
       "4          2                   0                 3  Not Packed   \n",
       "\n",
       "                                             Imports Suspicious Sections  \\\n",
       "0  LoadLibraryA, ExitProcess, GetProcAddress, Vir...              Normal   \n",
       "1  LoadLibraryA, ExitProcess, GetProcAddress, Vir...              Normal   \n",
       "2  CreateFileA, LocalAlloc, Sleep, CreateThread, ...              Normal   \n",
       "3  LoadLibraryA, ExitProcess, GetProcAddress, Vir...              Normal   \n",
       "4  LoadLibraryA, ExitProcess, GetProcAddress, Vir...              Normal   \n",
       "\n",
       "                                             Strings  \n",
       "0                              1http://w, *(SY)# cmd  \n",
       "1                              1http://w, *(SY)# cmd  \n",
       "2  _acmdln, https, http, YYYYYXYYYYYhttp://eads.r...  \n",
       "3                              1http://w, *(SY)# cmd  \n",
       "4                              1http://w, *(SY)# cmd  "
      ]
     },
     "execution_count": 19,
     "metadata": {},
     "output_type": "execute_result"
    }
   ],
   "source": [
    "df.head()"
   ]
  },
  {
   "cell_type": "code",
   "execution_count": null,
   "metadata": {},
   "outputs": [],
   "source": []
  }
 ],
 "metadata": {
  "kernelspec": {
   "display_name": "myvenv",
   "language": "python",
   "name": "python3"
  },
  "language_info": {
   "codemirror_mode": {
    "name": "ipython",
    "version": 3
   },
   "file_extension": ".py",
   "mimetype": "text/x-python",
   "name": "python",
   "nbconvert_exporter": "python",
   "pygments_lexer": "ipython3",
   "version": "3.13.1"
  }
 },
 "nbformat": 4,
 "nbformat_minor": 2
}
