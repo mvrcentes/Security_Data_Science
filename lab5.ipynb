{
 "cells": [
  {
   "cell_type": "code",
   "execution_count": null,
   "metadata": {},
   "outputs": [],
   "source": [
    "#!/usr/bin/env python"
   ]
  },
  {
   "cell_type": "markdown",
   "metadata": {},
   "source": [
    "# Laboratorio 5: Threat Hunting with Data Science\n"
   ]
  },
  {
   "cell_type": "markdown",
   "metadata": {},
   "source": [
    "## Parte 1 – Filtrado y preprocesamiento\n"
   ]
  },
  {
   "cell_type": "markdown",
   "metadata": {},
   "source": [
    "### Carga y conteo de registro\n"
   ]
  },
  {
   "cell_type": "code",
   "execution_count": 7,
   "metadata": {},
   "outputs": [
    {
     "name": "stdout",
     "output_type": "stream",
     "text": [
      "✅ Tráfico inicial cargado: 746909 registros.\n"
     ]
    }
   ],
   "source": [
    "import json\n",
    "\n",
    "# 📌 Ruta del archivo (ajústala si es necesario)\n",
    "file_path = \"large_eve.json\"\n",
    "\n",
    "# 📌 Contador de registros\n",
    "record_count = 0\n",
    "\n",
    "# 📌 Cargar los datos línea por línea\n",
    "with open(file_path, \"r\", encoding=\"utf-8\") as f:\n",
    "    for _ in f:\n",
    "        record_count += 1\n",
    "\n",
    "# 📌 Mostrar el total de registros\n",
    "print(f\"✅ Tráfico inicial cargado: {record_count} registros.\")"
   ]
  },
  {
   "cell_type": "markdown",
   "metadata": {},
   "source": [
    "### Filtrar Registros DNS\n"
   ]
  },
  {
   "cell_type": "code",
   "execution_count": 8,
   "metadata": {},
   "outputs": [
    {
     "name": "stdout",
     "output_type": "stream",
     "text": [
      "✅ Se encontraron 15749 registros DNS.\n"
     ]
    }
   ],
   "source": [
    "dns_records = []\n",
    "\n",
    "# 📌 Cargar y filtrar los datos\n",
    "with open(file_path, \"r\", encoding=\"utf-8\") as f:\n",
    "    for line in f:\n",
    "        try:\n",
    "            record = json.loads(line)  # Convertir línea JSON en diccionario\n",
    "            if \"dns\" in record:  # Filtrar solo eventos DNS\n",
    "                dns_records.append(record)\n",
    "        except json.JSONDecodeError:\n",
    "            continue  # Ignorar líneas mal formateadas\n",
    "\n",
    "# 📌 Mostrar el total de registros DNS filtrados\n",
    "print(f\"✅ Se encontraron {len(dns_records)} registros DNS.\")"
   ]
  },
  {
   "cell_type": "markdown",
   "metadata": {},
   "source": [
    "### 2 registros aleatorios\n"
   ]
  },
  {
   "cell_type": "code",
   "execution_count": 9,
   "metadata": {},
   "outputs": [
    {
     "name": "stdout",
     "output_type": "stream",
     "text": [
      "\n",
      "🔍 Ejemplo de 2 registros DNS:\n",
      "\n",
      "📌 Registro 1:\n",
      "{\n",
      "    \"timestamp\": \"2017-07-22T19:29:18.190008-0500\",\n",
      "    \"flow_id\": 1318106402055486,\n",
      "    \"pcap_cnt\": 3352728,\n",
      "    \"event_type\": \"dns\",\n",
      "    \"vlan\": 150,\n",
      "    \"src_ip\": \"192.168.207.4\",\n",
      "    \"src_port\": 53,\n",
      "    \"dest_ip\": \"192.168.205.188\",\n",
      "    \"dest_port\": 37343,\n",
      "    \"proto\": \"UDP\",\n",
      "    \"dns\": {\n",
      "        \"type\": \"answer\",\n",
      "        \"id\": 51542,\n",
      "        \"rcode\": \"NXDOMAIN\",\n",
      "        \"rrname\": \"mirror.san.fastserv.com\"\n",
      "    }\n",
      "}\n",
      "\n",
      "📌 Registro 2:\n",
      "{\n",
      "    \"timestamp\": \"2017-07-22T19:10:22.293994-0500\",\n",
      "    \"flow_id\": 1427387475459178,\n",
      "    \"pcap_cnt\": 2638409,\n",
      "    \"event_type\": \"dns\",\n",
      "    \"vlan\": 140,\n",
      "    \"src_ip\": \"2001:0dbb:0c18:0014:34fa:4d67:66fe:82e9\",\n",
      "    \"src_port\": 52273,\n",
      "    \"dest_ip\": \"0000:0000:0000:0000:0000:ffff:c0a8:19ee\",\n",
      "    \"dest_port\": 53,\n",
      "    \"proto\": \"UDP\",\n",
      "    \"dns\": {\n",
      "        \"type\": \"query\",\n",
      "        \"id\": 22770,\n",
      "        \"rrname\": \"VERSION.BIND\",\n",
      "        \"rrtype\": \"TXT\",\n",
      "        \"tx_id\": 0\n",
      "    }\n",
      "}\n"
     ]
    }
   ],
   "source": [
    "import random\n",
    "\n",
    "# 📌 Mostrar 2 registros aleatorios\n",
    "if len(dns_records) >= 2:\n",
    "    sample_records = random.sample(dns_records, 2)\n",
    "    print(\"\\n🔍 Ejemplo de 2 registros DNS:\")\n",
    "    for idx, record in enumerate(sample_records, 1):\n",
    "        print(f\"\\n📌 Registro {idx}:\")\n",
    "        print(json.dumps(record, indent=4))  # Formatear JSON para mejor lectura\n",
    "else:\n",
    "    print(\"⚠️ No hay suficientes registros DNS para mostrar ejemplos.\")"
   ]
  },
  {
   "cell_type": "markdown",
   "metadata": {},
   "source": [
    "### Normalización de datos con `json_normalize`\n"
   ]
  },
  {
   "cell_type": "code",
   "execution_count": 10,
   "metadata": {},
   "outputs": [
    {
     "name": "stdout",
     "output_type": "stream",
     "text": [
      "✅ DataFrame normalizado con shape: (15749, 18)\n"
     ]
    },
    {
     "data": {
      "text/html": [
       "<div>\n",
       "<style scoped>\n",
       "    .dataframe tbody tr th:only-of-type {\n",
       "        vertical-align: middle;\n",
       "    }\n",
       "\n",
       "    .dataframe tbody tr th {\n",
       "        vertical-align: top;\n",
       "    }\n",
       "\n",
       "    .dataframe thead th {\n",
       "        text-align: right;\n",
       "    }\n",
       "</style>\n",
       "<table border=\"1\" class=\"dataframe\">\n",
       "  <thead>\n",
       "    <tr style=\"text-align: right;\">\n",
       "      <th></th>\n",
       "      <th>timestamp</th>\n",
       "      <th>flow_id</th>\n",
       "      <th>pcap_cnt</th>\n",
       "      <th>event_type</th>\n",
       "      <th>vlan</th>\n",
       "      <th>src_ip</th>\n",
       "      <th>src_port</th>\n",
       "      <th>dest_ip</th>\n",
       "      <th>dest_port</th>\n",
       "      <th>proto</th>\n",
       "      <th>dns.type</th>\n",
       "      <th>dns.id</th>\n",
       "      <th>dns.rrname</th>\n",
       "      <th>dns.rrtype</th>\n",
       "      <th>dns.tx_id</th>\n",
       "      <th>dns.rcode</th>\n",
       "      <th>dns.ttl</th>\n",
       "      <th>dns.rdata</th>\n",
       "    </tr>\n",
       "  </thead>\n",
       "  <tbody>\n",
       "    <tr>\n",
       "      <th>0</th>\n",
       "      <td>2017-07-22T17:33:16.661646-0500</td>\n",
       "      <td>1327836194150542</td>\n",
       "      <td>22269</td>\n",
       "      <td>dns</td>\n",
       "      <td>110</td>\n",
       "      <td>2001:0dbb:0c18:0011:0260:6eff:fe30:0863</td>\n",
       "      <td>59680</td>\n",
       "      <td>2001:0500:0001:0000:0000:0000:803f:0235</td>\n",
       "      <td>53</td>\n",
       "      <td>UDP</td>\n",
       "      <td>query</td>\n",
       "      <td>15529</td>\n",
       "      <td>api.wunderground.com</td>\n",
       "      <td>A</td>\n",
       "      <td>0.0</td>\n",
       "      <td>NaN</td>\n",
       "      <td>NaN</td>\n",
       "      <td>NaN</td>\n",
       "    </tr>\n",
       "    <tr>\n",
       "      <th>1</th>\n",
       "      <td>2017-07-22T17:33:24.990320-0500</td>\n",
       "      <td>2022925111925872</td>\n",
       "      <td>54352</td>\n",
       "      <td>dns</td>\n",
       "      <td>110</td>\n",
       "      <td>2001:0dbb:0c18:0011:0260:6eff:fe30:0863</td>\n",
       "      <td>38051</td>\n",
       "      <td>2001:0500:0003:0000:0000:0000:0000:0042</td>\n",
       "      <td>53</td>\n",
       "      <td>UDP</td>\n",
       "      <td>query</td>\n",
       "      <td>58278</td>\n",
       "      <td>stork79.dropbox.com</td>\n",
       "      <td>A</td>\n",
       "      <td>0.0</td>\n",
       "      <td>NaN</td>\n",
       "      <td>NaN</td>\n",
       "      <td>NaN</td>\n",
       "    </tr>\n",
       "    <tr>\n",
       "      <th>2</th>\n",
       "      <td>2017-07-22T17:33:27.379891-0500</td>\n",
       "      <td>578544790391795</td>\n",
       "      <td>54519</td>\n",
       "      <td>dns</td>\n",
       "      <td>150</td>\n",
       "      <td>192.168.205.170</td>\n",
       "      <td>31393</td>\n",
       "      <td>192.168.207.4</td>\n",
       "      <td>53</td>\n",
       "      <td>UDP</td>\n",
       "      <td>query</td>\n",
       "      <td>54724</td>\n",
       "      <td>hpca-tier2.office.aol.com.ad.aol.aoltw.net</td>\n",
       "      <td>A</td>\n",
       "      <td>0.0</td>\n",
       "      <td>NaN</td>\n",
       "      <td>NaN</td>\n",
       "      <td>NaN</td>\n",
       "    </tr>\n",
       "    <tr>\n",
       "      <th>3</th>\n",
       "      <td>2017-07-22T17:33:27.380146-0500</td>\n",
       "      <td>578544790391795</td>\n",
       "      <td>54520</td>\n",
       "      <td>dns</td>\n",
       "      <td>150</td>\n",
       "      <td>192.168.207.4</td>\n",
       "      <td>53</td>\n",
       "      <td>192.168.205.170</td>\n",
       "      <td>31393</td>\n",
       "      <td>UDP</td>\n",
       "      <td>answer</td>\n",
       "      <td>54724</td>\n",
       "      <td>hpca-tier2.office.aol.com.ad.aol.aoltw.net</td>\n",
       "      <td>NaN</td>\n",
       "      <td>NaN</td>\n",
       "      <td>NXDOMAIN</td>\n",
       "      <td>NaN</td>\n",
       "      <td>NaN</td>\n",
       "    </tr>\n",
       "    <tr>\n",
       "      <th>4</th>\n",
       "      <td>2017-07-22T17:33:27.380146-0500</td>\n",
       "      <td>578544790391795</td>\n",
       "      <td>54520</td>\n",
       "      <td>dns</td>\n",
       "      <td>150</td>\n",
       "      <td>192.168.207.4</td>\n",
       "      <td>53</td>\n",
       "      <td>192.168.205.170</td>\n",
       "      <td>31393</td>\n",
       "      <td>UDP</td>\n",
       "      <td>answer</td>\n",
       "      <td>54724</td>\n",
       "      <td>&lt;root&gt;</td>\n",
       "      <td>SOA</td>\n",
       "      <td>NaN</td>\n",
       "      <td>NXDOMAIN</td>\n",
       "      <td>20864.0</td>\n",
       "      <td>NaN</td>\n",
       "    </tr>\n",
       "  </tbody>\n",
       "</table>\n",
       "</div>"
      ],
      "text/plain": [
       "                         timestamp           flow_id  pcap_cnt event_type  \\\n",
       "0  2017-07-22T17:33:16.661646-0500  1327836194150542     22269        dns   \n",
       "1  2017-07-22T17:33:24.990320-0500  2022925111925872     54352        dns   \n",
       "2  2017-07-22T17:33:27.379891-0500   578544790391795     54519        dns   \n",
       "3  2017-07-22T17:33:27.380146-0500   578544790391795     54520        dns   \n",
       "4  2017-07-22T17:33:27.380146-0500   578544790391795     54520        dns   \n",
       "\n",
       "   vlan                                   src_ip  src_port  \\\n",
       "0   110  2001:0dbb:0c18:0011:0260:6eff:fe30:0863     59680   \n",
       "1   110  2001:0dbb:0c18:0011:0260:6eff:fe30:0863     38051   \n",
       "2   150                          192.168.205.170     31393   \n",
       "3   150                            192.168.207.4        53   \n",
       "4   150                            192.168.207.4        53   \n",
       "\n",
       "                                   dest_ip  dest_port proto dns.type  dns.id  \\\n",
       "0  2001:0500:0001:0000:0000:0000:803f:0235         53   UDP    query   15529   \n",
       "1  2001:0500:0003:0000:0000:0000:0000:0042         53   UDP    query   58278   \n",
       "2                            192.168.207.4         53   UDP    query   54724   \n",
       "3                          192.168.205.170      31393   UDP   answer   54724   \n",
       "4                          192.168.205.170      31393   UDP   answer   54724   \n",
       "\n",
       "                                   dns.rrname dns.rrtype  dns.tx_id dns.rcode  \\\n",
       "0                        api.wunderground.com          A        0.0       NaN   \n",
       "1                         stork79.dropbox.com          A        0.0       NaN   \n",
       "2  hpca-tier2.office.aol.com.ad.aol.aoltw.net          A        0.0       NaN   \n",
       "3  hpca-tier2.office.aol.com.ad.aol.aoltw.net        NaN        NaN  NXDOMAIN   \n",
       "4                                      <root>        SOA        NaN  NXDOMAIN   \n",
       "\n",
       "   dns.ttl dns.rdata  \n",
       "0      NaN       NaN  \n",
       "1      NaN       NaN  \n",
       "2      NaN       NaN  \n",
       "3      NaN       NaN  \n",
       "4  20864.0       NaN  "
      ]
     },
     "metadata": {},
     "output_type": "display_data"
    }
   ],
   "source": [
    "import pandas as pd\n",
    "\n",
    "# 📌 Normalizar la data JSON y convertirla en un DataFrame\n",
    "df_dns = pd.json_normalize(dns_records)\n",
    "\n",
    "# 📌 Mostrar el shape del DataFrame\n",
    "print(f\"✅ DataFrame normalizado con shape: {df_dns.shape}\")\n",
    "\n",
    "# 📌 Mostrar las primeras filas para inspeccionar los datos\n",
    "display(df_dns.head())"
   ]
  },
  {
   "cell_type": "markdown",
   "metadata": {},
   "source": [
    "### Filtrar registros DNS tipo A\n"
   ]
  },
  {
   "cell_type": "code",
   "execution_count": 14,
   "metadata": {},
   "outputs": [
    {
     "name": "stdout",
     "output_type": "stream",
     "text": [
      "✅ DataFrame filtrado con registros tipo A: (2849, 18)\n"
     ]
    },
    {
     "data": {
      "text/html": [
       "<div>\n",
       "<style scoped>\n",
       "    .dataframe tbody tr th:only-of-type {\n",
       "        vertical-align: middle;\n",
       "    }\n",
       "\n",
       "    .dataframe tbody tr th {\n",
       "        vertical-align: top;\n",
       "    }\n",
       "\n",
       "    .dataframe thead th {\n",
       "        text-align: right;\n",
       "    }\n",
       "</style>\n",
       "<table border=\"1\" class=\"dataframe\">\n",
       "  <thead>\n",
       "    <tr style=\"text-align: right;\">\n",
       "      <th></th>\n",
       "      <th>timestamp</th>\n",
       "      <th>flow_id</th>\n",
       "      <th>pcap_cnt</th>\n",
       "      <th>event_type</th>\n",
       "      <th>vlan</th>\n",
       "      <th>src_ip</th>\n",
       "      <th>src_port</th>\n",
       "      <th>dest_ip</th>\n",
       "      <th>dest_port</th>\n",
       "      <th>proto</th>\n",
       "      <th>dns.type</th>\n",
       "      <th>dns.id</th>\n",
       "      <th>dns.rrname</th>\n",
       "      <th>dns.rrtype</th>\n",
       "      <th>dns.tx_id</th>\n",
       "      <th>dns.rcode</th>\n",
       "      <th>dns.ttl</th>\n",
       "      <th>dns.rdata</th>\n",
       "    </tr>\n",
       "  </thead>\n",
       "  <tbody>\n",
       "    <tr>\n",
       "      <th>0</th>\n",
       "      <td>2017-07-22T17:33:16.661646-0500</td>\n",
       "      <td>1327836194150542</td>\n",
       "      <td>22269</td>\n",
       "      <td>dns</td>\n",
       "      <td>110</td>\n",
       "      <td>2001:0dbb:0c18:0011:0260:6eff:fe30:0863</td>\n",
       "      <td>59680</td>\n",
       "      <td>2001:0500:0001:0000:0000:0000:803f:0235</td>\n",
       "      <td>53</td>\n",
       "      <td>UDP</td>\n",
       "      <td>query</td>\n",
       "      <td>15529</td>\n",
       "      <td>api.wunderground.com</td>\n",
       "      <td>A</td>\n",
       "      <td>0.0</td>\n",
       "      <td>NaN</td>\n",
       "      <td>NaN</td>\n",
       "      <td>NaN</td>\n",
       "    </tr>\n",
       "    <tr>\n",
       "      <th>1</th>\n",
       "      <td>2017-07-22T17:33:24.990320-0500</td>\n",
       "      <td>2022925111925872</td>\n",
       "      <td>54352</td>\n",
       "      <td>dns</td>\n",
       "      <td>110</td>\n",
       "      <td>2001:0dbb:0c18:0011:0260:6eff:fe30:0863</td>\n",
       "      <td>38051</td>\n",
       "      <td>2001:0500:0003:0000:0000:0000:0000:0042</td>\n",
       "      <td>53</td>\n",
       "      <td>UDP</td>\n",
       "      <td>query</td>\n",
       "      <td>58278</td>\n",
       "      <td>stork79.dropbox.com</td>\n",
       "      <td>A</td>\n",
       "      <td>0.0</td>\n",
       "      <td>NaN</td>\n",
       "      <td>NaN</td>\n",
       "      <td>NaN</td>\n",
       "    </tr>\n",
       "    <tr>\n",
       "      <th>2</th>\n",
       "      <td>2017-07-22T17:33:27.379891-0500</td>\n",
       "      <td>578544790391795</td>\n",
       "      <td>54519</td>\n",
       "      <td>dns</td>\n",
       "      <td>150</td>\n",
       "      <td>192.168.205.170</td>\n",
       "      <td>31393</td>\n",
       "      <td>192.168.207.4</td>\n",
       "      <td>53</td>\n",
       "      <td>UDP</td>\n",
       "      <td>query</td>\n",
       "      <td>54724</td>\n",
       "      <td>hpca-tier2.office.aol.com.ad.aol.aoltw.net</td>\n",
       "      <td>A</td>\n",
       "      <td>0.0</td>\n",
       "      <td>NaN</td>\n",
       "      <td>NaN</td>\n",
       "      <td>NaN</td>\n",
       "    </tr>\n",
       "    <tr>\n",
       "      <th>5</th>\n",
       "      <td>2017-07-22T17:33:36.672785-0500</td>\n",
       "      <td>237919524635665</td>\n",
       "      <td>55496</td>\n",
       "      <td>dns</td>\n",
       "      <td>110</td>\n",
       "      <td>2001:0dbb:0c18:0011:0260:6eff:fe30:0863</td>\n",
       "      <td>41663</td>\n",
       "      <td>2001:07fd:0000:0000:0000:0000:0000:0001</td>\n",
       "      <td>53</td>\n",
       "      <td>UDP</td>\n",
       "      <td>query</td>\n",
       "      <td>45082</td>\n",
       "      <td>api.wunderground.com</td>\n",
       "      <td>A</td>\n",
       "      <td>0.0</td>\n",
       "      <td>NaN</td>\n",
       "      <td>NaN</td>\n",
       "      <td>NaN</td>\n",
       "    </tr>\n",
       "    <tr>\n",
       "      <th>6</th>\n",
       "      <td>2017-07-22T17:33:38.537426-0500</td>\n",
       "      <td>2167545251640146</td>\n",
       "      <td>55687</td>\n",
       "      <td>dns</td>\n",
       "      <td>180</td>\n",
       "      <td>192.168.198.62</td>\n",
       "      <td>35092</td>\n",
       "      <td>192.168.207.4</td>\n",
       "      <td>53</td>\n",
       "      <td>UDP</td>\n",
       "      <td>query</td>\n",
       "      <td>7425</td>\n",
       "      <td>safebrowsing.clients.google.com.home</td>\n",
       "      <td>A</td>\n",
       "      <td>0.0</td>\n",
       "      <td>NaN</td>\n",
       "      <td>NaN</td>\n",
       "      <td>NaN</td>\n",
       "    </tr>\n",
       "  </tbody>\n",
       "</table>\n",
       "</div>"
      ],
      "text/plain": [
       "                         timestamp           flow_id  pcap_cnt event_type  \\\n",
       "0  2017-07-22T17:33:16.661646-0500  1327836194150542     22269        dns   \n",
       "1  2017-07-22T17:33:24.990320-0500  2022925111925872     54352        dns   \n",
       "2  2017-07-22T17:33:27.379891-0500   578544790391795     54519        dns   \n",
       "5  2017-07-22T17:33:36.672785-0500   237919524635665     55496        dns   \n",
       "6  2017-07-22T17:33:38.537426-0500  2167545251640146     55687        dns   \n",
       "\n",
       "   vlan                                   src_ip  src_port  \\\n",
       "0   110  2001:0dbb:0c18:0011:0260:6eff:fe30:0863     59680   \n",
       "1   110  2001:0dbb:0c18:0011:0260:6eff:fe30:0863     38051   \n",
       "2   150                          192.168.205.170     31393   \n",
       "5   110  2001:0dbb:0c18:0011:0260:6eff:fe30:0863     41663   \n",
       "6   180                           192.168.198.62     35092   \n",
       "\n",
       "                                   dest_ip  dest_port proto dns.type  dns.id  \\\n",
       "0  2001:0500:0001:0000:0000:0000:803f:0235         53   UDP    query   15529   \n",
       "1  2001:0500:0003:0000:0000:0000:0000:0042         53   UDP    query   58278   \n",
       "2                            192.168.207.4         53   UDP    query   54724   \n",
       "5  2001:07fd:0000:0000:0000:0000:0000:0001         53   UDP    query   45082   \n",
       "6                            192.168.207.4         53   UDP    query    7425   \n",
       "\n",
       "                                   dns.rrname dns.rrtype  dns.tx_id dns.rcode  \\\n",
       "0                        api.wunderground.com          A        0.0       NaN   \n",
       "1                         stork79.dropbox.com          A        0.0       NaN   \n",
       "2  hpca-tier2.office.aol.com.ad.aol.aoltw.net          A        0.0       NaN   \n",
       "5                        api.wunderground.com          A        0.0       NaN   \n",
       "6        safebrowsing.clients.google.com.home          A        0.0       NaN   \n",
       "\n",
       "   dns.ttl dns.rdata  \n",
       "0      NaN       NaN  \n",
       "1      NaN       NaN  \n",
       "2      NaN       NaN  \n",
       "5      NaN       NaN  \n",
       "6      NaN       NaN  "
      ]
     },
     "metadata": {},
     "output_type": "display_data"
    }
   ],
   "source": [
    "# 📌 Filtrar solo registros DNS tipo A (asociados a direcciones IP)\n",
    "df_dns_a = df_dns[df_dns[\"dns.rrtype\"] == \"A\"]\n",
    "\n",
    "# 📌 Mostrar el shape del DataFrame filtrado\n",
    "print(f\"✅ DataFrame filtrado con registros tipo A: {df_dns_a.shape}\")\n",
    "\n",
    "# 📌 Mostrar las primeras filas para verificar los datos\n",
    "display(df_dns_a.head())"
   ]
  },
  {
   "cell_type": "markdown",
   "metadata": {},
   "source": [
    "### Filtrar dominios únicos\n"
   ]
  },
  {
   "cell_type": "code",
   "execution_count": 15,
   "metadata": {},
   "outputs": [
    {
     "name": "stdout",
     "output_type": "stream",
     "text": [
      "✅ Se encontraron 177 dominios únicos.\n"
     ]
    },
    {
     "data": {
      "text/html": [
       "<div>\n",
       "<style scoped>\n",
       "    .dataframe tbody tr th:only-of-type {\n",
       "        vertical-align: middle;\n",
       "    }\n",
       "\n",
       "    .dataframe tbody tr th {\n",
       "        vertical-align: top;\n",
       "    }\n",
       "\n",
       "    .dataframe thead th {\n",
       "        text-align: right;\n",
       "    }\n",
       "</style>\n",
       "<table border=\"1\" class=\"dataframe\">\n",
       "  <thead>\n",
       "    <tr style=\"text-align: right;\">\n",
       "      <th></th>\n",
       "      <th>Unique Domains</th>\n",
       "    </tr>\n",
       "  </thead>\n",
       "  <tbody>\n",
       "    <tr>\n",
       "      <th>0</th>\n",
       "      <td>api.wunderground.com</td>\n",
       "    </tr>\n",
       "    <tr>\n",
       "      <th>1</th>\n",
       "      <td>stork79.dropbox.com</td>\n",
       "    </tr>\n",
       "    <tr>\n",
       "      <th>2</th>\n",
       "      <td>hpca-tier2.office.aol.com.ad.aol.aoltw.net</td>\n",
       "    </tr>\n",
       "    <tr>\n",
       "      <th>3</th>\n",
       "      <td>safebrowsing.clients.google.com.home</td>\n",
       "    </tr>\n",
       "    <tr>\n",
       "      <th>4</th>\n",
       "      <td>fxfeeds.mozilla.com</td>\n",
       "    </tr>\n",
       "  </tbody>\n",
       "</table>\n",
       "</div>"
      ],
      "text/plain": [
       "                               Unique Domains\n",
       "0                        api.wunderground.com\n",
       "1                         stork79.dropbox.com\n",
       "2  hpca-tier2.office.aol.com.ad.aol.aoltw.net\n",
       "3        safebrowsing.clients.google.com.home\n",
       "4                         fxfeeds.mozilla.com"
      ]
     },
     "metadata": {},
     "output_type": "display_data"
    }
   ],
   "source": [
    "# 📌 Extraer dominios únicos de los registros DNS tipo A\n",
    "unique_domains = df_dns_a[\"dns.rrname\"].unique()\n",
    "\n",
    "# 📌 Convertirlos en un DataFrame para visualización y análisis\n",
    "df_unique_domains = pd.DataFrame(unique_domains, columns=[\"Unique Domains\"])\n",
    "\n",
    "# 📌 Mostrar el total de dominios únicos\n",
    "print(f\"✅ Se encontraron {len(df_unique_domains)} dominios únicos.\")\n",
    "\n",
    "# 📌 Mostrar las primeras filas para inspeccionar los datos\n",
    "display(df_unique_domains.head())"
   ]
  },
  {
   "cell_type": "markdown",
   "metadata": {},
   "source": [
    "### TLD para los dominios\n"
   ]
  },
  {
   "cell_type": "code",
   "execution_count": 16,
   "metadata": {},
   "outputs": [
    {
     "name": "stdout",
     "output_type": "stream",
     "text": [
      "✅ TLDs extraídos correctamente.\n"
     ]
    },
    {
     "data": {
      "text/html": [
       "<div>\n",
       "<style scoped>\n",
       "    .dataframe tbody tr th:only-of-type {\n",
       "        vertical-align: middle;\n",
       "    }\n",
       "\n",
       "    .dataframe tbody tr th {\n",
       "        vertical-align: top;\n",
       "    }\n",
       "\n",
       "    .dataframe thead th {\n",
       "        text-align: right;\n",
       "    }\n",
       "</style>\n",
       "<table border=\"1\" class=\"dataframe\">\n",
       "  <thead>\n",
       "    <tr style=\"text-align: right;\">\n",
       "      <th></th>\n",
       "      <th>TLD</th>\n",
       "    </tr>\n",
       "  </thead>\n",
       "  <tbody>\n",
       "    <tr>\n",
       "      <th>0</th>\n",
       "      <td>wunderground.com</td>\n",
       "    </tr>\n",
       "    <tr>\n",
       "      <th>1</th>\n",
       "      <td>dropbox.com</td>\n",
       "    </tr>\n",
       "    <tr>\n",
       "      <th>2</th>\n",
       "      <td>aoltw.net</td>\n",
       "    </tr>\n",
       "    <tr>\n",
       "      <th>3</th>\n",
       "      <td>home</td>\n",
       "    </tr>\n",
       "    <tr>\n",
       "      <th>4</th>\n",
       "      <td>mozilla.com</td>\n",
       "    </tr>\n",
       "  </tbody>\n",
       "</table>\n",
       "</div>"
      ],
      "text/plain": [
       "                TLD\n",
       "0  wunderground.com\n",
       "1       dropbox.com\n",
       "2         aoltw.net\n",
       "3              home\n",
       "4       mozilla.com"
      ]
     },
     "metadata": {},
     "output_type": "display_data"
    }
   ],
   "source": [
    "import tldextract\n",
    "\n",
    "\n",
    "# 📌 Función para extraer el TLD de un dominio\n",
    "def extract_tld(domain):\n",
    "    \"\"\"\n",
    "    Extrae el TLD de un dominio a partir de un dominio completo.\n",
    "\n",
    "    Parámetros:\n",
    "    - domain (str): El dominio completo del cual se extraerá el TLD.\n",
    "\n",
    "    Retorna:\n",
    "    - str: El TLD extraído.\n",
    "    \"\"\"\n",
    "    extracted = tldextract.extract(domain)\n",
    "\n",
    "    # Si hay un sufijo, devuelve dominio + sufijo (ejemplo: wunderground.com)\n",
    "    if extracted.suffix:\n",
    "        return f\"{extracted.domain}.{extracted.suffix}\"\n",
    "\n",
    "    # Si no hay sufijo, devuelve solo el dominio base\n",
    "    return extracted.domain\n",
    "\n",
    "\n",
    "# 📌 Aplicar la función a la columna 'Unique Domains'\n",
    "df_unique_domains[\"TLD\"] = df_unique_domains[\"Unique Domains\"].apply(extract_tld)\n",
    "df_unique_domains.drop(\"Unique Domains\", axis=1, inplace=True)\n",
    "\n",
    "# 📌 Mostrar las primeras filas con los TLD extraídos\n",
    "print(\"✅ TLDs extraídos correctamente.\")\n",
    "display(df_unique_domains.head())"
   ]
  },
  {
   "cell_type": "markdown",
   "metadata": {},
   "source": [
    "## Parte 2 - Data Science\n"
   ]
  },
  {
   "cell_type": "markdown",
   "metadata": {},
   "source": [
    "### Gemini\n"
   ]
  },
  {
   "cell_type": "markdown",
   "metadata": {},
   "source": [
    "#### Configuración de Gemini y carga de la API Key\n"
   ]
  },
  {
   "cell_type": "code",
   "execution_count": 1,
   "metadata": {},
   "outputs": [
    {
     "name": "stdout",
     "output_type": "stream",
     "text": [
      "🔍 Loading dotenv from: /Users/mvrcentes/Library/CloudStorage/OneDrive-UVG/Documentos/Semestre_9/Security_Data_Science/Security_Data_Science/.env.local\n",
      "✅ API Key cargada correctamente: AIzaS\n"
     ]
    },
    {
     "name": "stderr",
     "output_type": "stream",
     "text": [
      "/Users/mvrcentes/Library/CloudStorage/OneDrive-UVG/Documentos/Semestre_9/Security_Data_Science/Security_Data_Science/myvenv/lib/python3.13/site-packages/tqdm/auto.py:21: TqdmWarning: IProgress not found. Please update jupyter and ipywidgets. See https://ipywidgets.readthedocs.io/en/stable/user_install.html\n",
      "  from .autonotebook import tqdm as notebook_tqdm\n"
     ]
    }
   ],
   "source": [
    "import os\n",
    "import google.generativeai as genai\n",
    "from dotenv import load_dotenv\n",
    "\n",
    "# 📌 Obtener la ruta actual del directorio\n",
    "dotenv_path = os.path.join(os.getcwd(), \".env.local\")\n",
    "\n",
    "print(f\"🔍 Loading dotenv from: {dotenv_path}\")\n",
    "\n",
    "# 📌 Cargar las variables del archivo .env.local\n",
    "load_dotenv(dotenv_path=dotenv_path, override=True)\n",
    "\n",
    "# 📌 Verificar si la API Key se cargó correctamente\n",
    "api_key = os.getenv(\"GOOGLE_API_KEY\")\n",
    "\n",
    "if not api_key:\n",
    "    print(\"❌ ERROR: No se encontró una API Key válida en .env.local\")\n",
    "    exit()\n",
    "\n",
    "print(f\"✅ API Key cargada correctamente: {api_key[:5]}\")"
   ]
  },
  {
   "cell_type": "markdown",
   "metadata": {},
   "source": [
    "#### Función para clasificar dominios con Gemini\n"
   ]
  },
  {
   "cell_type": "code",
   "execution_count": 2,
   "metadata": {},
   "outputs": [],
   "source": [
    "import google.generativeai as genai\n",
    "import os\n",
    "import time\n",
    "\n",
    "\n",
    "def classify_domain_with_gemini(domain, max_retries=3, wait_time=2):\n",
    "    \"\"\"\n",
    "    Clasifica un dominio como DGA (1) o legítimo (0) usando Gemini AI.\n",
    "\n",
    "    Parámetros:\n",
    "    - domain (str): El dominio a evaluar.\n",
    "    - max_retries (int): Número máximo de intentos en caso de error.\n",
    "    - wait_time (int): Tiempo en segundos entre intentos.\n",
    "\n",
    "    Retorna:\n",
    "    - int: 1 si el dominio es DGA, 0 si es legítimo.\n",
    "    \"\"\"\n",
    "    for attempt in range(1, max_retries + 1):\n",
    "        try:\n",
    "            # 📌 Configurar la API Key\n",
    "            genai.configure(api_key=os.getenv(\"GOOGLE_API_KEY\"))\n",
    "\n",
    "            # 📌 Usar Gemini Pro para mayor precisión\n",
    "            model = genai.GenerativeModel(\"gemini-1.5-flash-latest\")\n",
    "\n",
    "            # 📌 Nuevo prompt mejorado\n",
    "            prompt = f\"\"\"\n",
    "            Eres un experto en ciberseguridad y análisis de dominios.\n",
    "\n",
    "            Tu tarea es clasificar el siguiente dominio en una de estas dos categorías:\n",
    "            1️⃣ **DGA (1)**: Un dominio generado por un algoritmo malicioso (Domain Generation Algorithm). \n",
    "               - Suelen ser nombres aleatorios sin sentido (ej: xjklzqw.net, a8f4h3d2.com).\n",
    "               - Se usan en malware para comunicación con servidores de comando y control.\n",
    "\n",
    "            0️⃣ **Legítimo (0)**: Un dominio de una empresa, sitio web o servicio popular.\n",
    "               - Ejemplos: google.com, dropbox.com, amazon.com, microsoft.com.\n",
    "               - Si el dominio pertenece a una empresa reconocida o servicio conocido, clasifícalo como 0.\n",
    "\n",
    "            Dominio a analizar: {domain}\n",
    "\n",
    "            📌 **Importante:**\n",
    "            - **Solo responde con el número 1 o 0.**\n",
    "            - No agregues explicaciones adicionales.\n",
    "            - Si el dominio parece legítimo, responde \"0\".\n",
    "            \"\"\"\n",
    "\n",
    "            # 📌 Consultar Gemini\n",
    "            response = model.generate_content(prompt)\n",
    "\n",
    "            # 📌 Extraer y validar la respuesta\n",
    "            label = response.text.strip()\n",
    "            if label in [\"0\", \"1\"]:\n",
    "                return int(label)\n",
    "\n",
    "            print(f\"⚠️ Respuesta inesperada de Gemini en intento {attempt}: {label}\")\n",
    "\n",
    "        except Exception as e:\n",
    "            error_message = str(e)\n",
    "            print(\n",
    "                f\"⚠️ Intento {attempt}/{max_retries} - Error clasificando {domain}: {error_message}\"\n",
    "            )\n",
    "\n",
    "            # 📌 Si se agota la cuota, detener clasificación\n",
    "            if \"429\" in error_message or \"Resource has been exhausted\" in error_message:\n",
    "                print(\n",
    "                    \"⏳ Intentar más tarde, cuota de Gemini agotada. Clasificación detenida.\"\n",
    "                )\n",
    "                return None\n",
    "\n",
    "        # 📌 Esperar antes de reintentar\n",
    "        time.sleep(wait_time)\n",
    "\n",
    "    return None  # Si todos los intentos fallan"
   ]
  },
  {
   "cell_type": "markdown",
   "metadata": {},
   "source": [
    "#### Cargar los datos a un CSV\n"
   ]
  },
  {
   "cell_type": "code",
   "execution_count": 3,
   "metadata": {},
   "outputs": [
    {
     "name": "stdout",
     "output_type": "stream",
     "text": [
      "✅ Archivo CSV existente cargado con 177 registros.\n"
     ]
    },
    {
     "data": {
      "text/html": [
       "<div>\n",
       "<style scoped>\n",
       "    .dataframe tbody tr th:only-of-type {\n",
       "        vertical-align: middle;\n",
       "    }\n",
       "\n",
       "    .dataframe tbody tr th {\n",
       "        vertical-align: top;\n",
       "    }\n",
       "\n",
       "    .dataframe thead th {\n",
       "        text-align: right;\n",
       "    }\n",
       "</style>\n",
       "<table border=\"1\" class=\"dataframe\">\n",
       "  <thead>\n",
       "    <tr style=\"text-align: right;\">\n",
       "      <th></th>\n",
       "      <th>domain_tld</th>\n",
       "      <th>dga_label</th>\n",
       "    </tr>\n",
       "  </thead>\n",
       "  <tbody>\n",
       "    <tr>\n",
       "      <th>0</th>\n",
       "      <td>wunderground.com</td>\n",
       "      <td>0</td>\n",
       "    </tr>\n",
       "    <tr>\n",
       "      <th>1</th>\n",
       "      <td>dropbox.com</td>\n",
       "      <td>0</td>\n",
       "    </tr>\n",
       "    <tr>\n",
       "      <th>2</th>\n",
       "      <td>aoltw.net</td>\n",
       "      <td>1</td>\n",
       "    </tr>\n",
       "    <tr>\n",
       "      <th>3</th>\n",
       "      <td>home</td>\n",
       "      <td>[missing]</td>\n",
       "    </tr>\n",
       "    <tr>\n",
       "      <th>4</th>\n",
       "      <td>mozilla.com</td>\n",
       "      <td>[missing]</td>\n",
       "    </tr>\n",
       "  </tbody>\n",
       "</table>\n",
       "</div>"
      ],
      "text/plain": [
       "         domain_tld  dga_label\n",
       "0  wunderground.com          0\n",
       "1       dropbox.com          0\n",
       "2         aoltw.net          1\n",
       "3              home  [missing]\n",
       "4       mozilla.com  [missing]"
      ]
     },
     "metadata": {},
     "output_type": "display_data"
    }
   ],
   "source": [
    "import pandas as pd\n",
    "import os\n",
    "\n",
    "# 📌 Nombre del archivo CSV donde se almacenarán las clasificaciones\n",
    "csv_filename = \"classified_domains.csv\"\n",
    "\n",
    "# 📌 Verificar si existe el archvio o empezar desde 0\n",
    "if os.path.exists(csv_filename):\n",
    "    # 📌 Cargar el archivo CSV existente\n",
    "    df_existing = pd.read_csv(csv_filename)\n",
    "\n",
    "    # 📌 Mostrar las primeras filas del archivo existente\n",
    "    print(f\"✅ Archivo CSV existente cargado con {df_existing.shape[0]} registros.\")\n",
    "    display(df_existing.head())\n",
    "else:\n",
    "    # 📌 Crear un DataFrame vacío con las columnas necesarias\n",
    "    df_existing = pd.DataFrame(columns=[\"domain_tld\", \"dga_label\"])\n",
    "    print(\"🆕 Creando el archivo CSV desde cero.\")\n",
    "\n",
    "    # 📌 Guardar el archivo vacío para inicializarlo\n",
    "    df_existing.to_csv(csv_filename, index=False)"
   ]
  },
  {
   "cell_type": "code",
   "execution_count": null,
   "metadata": {},
   "outputs": [
    {
     "name": "stdout",
     "output_type": "stream",
     "text": [
      "✅ Archivo classified_domains.csv guardado correctamente con 177 dominios.\n"
     ]
    }
   ],
   "source": [
    "# 📌 Extraer los dominios únicos desde df_unique_domains\n",
    "df_new_domains = df_unique_domains[[\"TLD\"]].rename(columns={\"TLD\": \"domain_tld\"})\n",
    "\n",
    "# 📌 Agregar la columna 'dga_label' con valores `[missing]`\n",
    "df_new_domains[\"dga_label\"] = \"[missing]\"\n",
    "\n",
    "# 📌 Guardar los dominios en el CSV\n",
    "df_new_domains.to_csv(csv_filename, index=False)\n",
    "\n",
    "print(\n",
    "    f\"✅ Archivo {csv_filename} guardado correctamente con {len(df_new_domains)} dominios.\"\n",
    ")"
   ]
  },
  {
   "cell_type": "markdown",
   "metadata": {},
   "source": [
    "### Cargar el CSV y verificar los dominios sin clasificar\n"
   ]
  },
  {
   "cell_type": "code",
   "execution_count": 3,
   "metadata": {},
   "outputs": [
    {
     "name": "stdout",
     "output_type": "stream",
     "text": [
      "🔍 Se encontraron 89 dominios sin clasificar.\n"
     ]
    },
    {
     "data": {
      "text/html": [
       "<div>\n",
       "<style scoped>\n",
       "    .dataframe tbody tr th:only-of-type {\n",
       "        vertical-align: middle;\n",
       "    }\n",
       "\n",
       "    .dataframe tbody tr th {\n",
       "        vertical-align: top;\n",
       "    }\n",
       "\n",
       "    .dataframe thead th {\n",
       "        text-align: right;\n",
       "    }\n",
       "</style>\n",
       "<table border=\"1\" class=\"dataframe\">\n",
       "  <thead>\n",
       "    <tr style=\"text-align: right;\">\n",
       "      <th></th>\n",
       "      <th>domain_tld</th>\n",
       "      <th>dga_label</th>\n",
       "    </tr>\n",
       "  </thead>\n",
       "  <tbody>\n",
       "    <tr>\n",
       "      <th>0</th>\n",
       "      <td>wunderground.com</td>\n",
       "      <td>0</td>\n",
       "    </tr>\n",
       "    <tr>\n",
       "      <th>1</th>\n",
       "      <td>dropbox.com</td>\n",
       "      <td>0</td>\n",
       "    </tr>\n",
       "    <tr>\n",
       "      <th>2</th>\n",
       "      <td>aoltw.net</td>\n",
       "      <td>1</td>\n",
       "    </tr>\n",
       "    <tr>\n",
       "      <th>3</th>\n",
       "      <td>home</td>\n",
       "      <td>0</td>\n",
       "    </tr>\n",
       "    <tr>\n",
       "      <th>4</th>\n",
       "      <td>mozilla.com</td>\n",
       "      <td>0</td>\n",
       "    </tr>\n",
       "  </tbody>\n",
       "</table>\n",
       "</div>"
      ],
      "text/plain": [
       "         domain_tld dga_label\n",
       "0  wunderground.com         0\n",
       "1       dropbox.com         0\n",
       "2         aoltw.net         1\n",
       "3              home         0\n",
       "4       mozilla.com         0"
      ]
     },
     "metadata": {},
     "output_type": "display_data"
    }
   ],
   "source": [
    "import pandas as pd\n",
    "\n",
    "# 📌 Nombre del archivo CSV con los dominios\n",
    "csv_filename = \"classified_domains.csv\"\n",
    "\n",
    "# 📌 Cargar el CSV\n",
    "df_existing = pd.read_csv(csv_filename)\n",
    "\n",
    "# 📌 Verificar cuántos dominios necesitan ser clasificados\n",
    "to_classify = df_existing[df_existing[\"dga_label\"] == \"[missing]\"][\"domain_tld\"]\n",
    "\n",
    "print(f\"🔍 Se encontraron {len(to_classify)} dominios sin clasificar.\")\n",
    "display(df_existing.head())  # Mostrar los primeros registros"
   ]
  },
  {
   "cell_type": "markdown",
   "metadata": {},
   "source": [
    "### Clasificar los dominios\n"
   ]
  },
  {
   "cell_type": "code",
   "execution_count": 4,
   "metadata": {},
   "outputs": [
    {
     "name": "stderr",
     "output_type": "stream",
     "text": [
      "Clasificando dominios con Gemini:   0%|          | 0/89 [00:00<?, ?it/s]"
     ]
    },
    {
     "name": "stderr",
     "output_type": "stream",
     "text": [
      "Clasificando dominios con Gemini:  18%|█▊        | 16/89 [00:15<01:12,  1.01it/s]"
     ]
    },
    {
     "name": "stdout",
     "output_type": "stream",
     "text": [
      "⚠️ Intento 1/3 - Error clasificando securityfocus.com: 429 Resource has been exhausted (e.g. check quota).\n",
      "⏳ Intentar más tarde, cuota de Gemini agotada. Clasificación detenida.\n",
      "⏳ Intentar más tarde, cuota de Gemini agotada. Clasificación detenida.\n",
      "✅ Clasificación finalizada. Verifica el archivo classified_domains.csv.\n"
     ]
    },
    {
     "name": "stderr",
     "output_type": "stream",
     "text": [
      "\n"
     ]
    }
   ],
   "source": [
    "from tqdm import tqdm\n",
    "\n",
    "# 📌 Bandera para detectar si se agotó la cuota\n",
    "quota_exceeded = False\n",
    "\n",
    "# 📌 Clasificar solo los dominios sin etiqueta\n",
    "for domain in tqdm(to_classify, desc=\"Clasificando dominios con Gemini\"):\n",
    "    if quota_exceeded:\n",
    "        print(\"⚠️ Se ha agotado la cuota de Gemini. Deteniendo clasificación.\")\n",
    "        break  # Salir del bucle inmediatamente\n",
    "\n",
    "    classification = classify_domain_with_gemini(domain)\n",
    "\n",
    "    # 📌 Si se agotó la cuota, detener todo\n",
    "    if classification is None:\n",
    "        quota_exceeded = True\n",
    "        print(\"⏳ Intentar más tarde, cuota de Gemini agotada. Clasificación detenida.\")\n",
    "        break\n",
    "\n",
    "    # 📌 Actualizar el DataFrame con la nueva clasificación\n",
    "    df_existing.loc[df_existing[\"domain_tld\"] == domain, \"dga_label\"] = classification\n",
    "\n",
    "    # 📌 Guardar el CSV después de cada clasificación para no perder progreso\n",
    "    df_existing.to_csv(csv_filename, index=False)\n",
    "\n",
    "print(f\"✅ Clasificación finalizada. Verifica el archivo {csv_filename}.\")"
   ]
  },
  {
   "cell_type": "code",
   "execution_count": 1,
   "metadata": {},
   "outputs": [
    {
     "ename": "ModuleNotFoundError",
     "evalue": "No module named 'numpy'",
     "output_type": "error",
     "traceback": [
      "\u001b[31m---------------------------------------------------------------------------\u001b[39m",
      "\u001b[31mModuleNotFoundError\u001b[39m                       Traceback (most recent call last)",
      "\u001b[36mCell\u001b[39m\u001b[36m \u001b[39m\u001b[32mIn[1]\u001b[39m\u001b[32m, line 5\u001b[39m\n\u001b[32m      2\u001b[39m \u001b[38;5;28;01mimport\u001b[39;00m\u001b[38;5;250m \u001b[39m\u001b[34;01msys\u001b[39;00m\n\u001b[32m      3\u001b[39m \u001b[38;5;28;01mfrom\u001b[39;00m\u001b[38;5;250m \u001b[39m\u001b[34;01mdatetime\u001b[39;00m\u001b[38;5;250m \u001b[39m\u001b[38;5;28;01mimport\u001b[39;00m datetime\n\u001b[32m----> \u001b[39m\u001b[32m5\u001b[39m \u001b[38;5;28;01mimport\u001b[39;00m\u001b[38;5;250m \u001b[39m\u001b[34;01mnumpy\u001b[39;00m\u001b[38;5;250m \u001b[39m\u001b[38;5;28;01mas\u001b[39;00m\u001b[38;5;250m \u001b[39m\u001b[34;01mnp\u001b[39;00m\n\u001b[32m      6\u001b[39m \u001b[38;5;28;01mimport\u001b[39;00m\u001b[38;5;250m \u001b[39m\u001b[34;01mrequests\u001b[39;00m\n\u001b[32m      9\u001b[39m \u001b[38;5;28;01mdef\u001b[39;00m\u001b[38;5;250m \u001b[39m\u001b[34mola\u001b[39m(a, b):\n",
      "\u001b[31mModuleNotFoundError\u001b[39m: No module named 'numpy'"
     ]
    }
   ],
   "source": [
    "import os\n",
    "import sys\n",
    "from datetime import datetime\n",
    "\n",
    "import numpy as np\n",
    "import requests\n",
    "\n",
    "\n",
    "def ola(a, b):\n",
    "    print(\"a + b\")\n",
    "    return a + b\n",
    "\n",
    "\n",
    "# sys.path.append(\n",
    "#     os.path.abspath(os.path.join(os.path.dirname(__file__), os.path.pardir))\n",
    "# )\n",
    "# datetime.now()\n",
    "# np.random.rand(5)\n",
    "# requests.get(\"https://www.google.com\")\n"
   ]
  }
 ],
 "metadata": {
  "kernelspec": {
   "display_name": "myvenv",
   "language": "python",
   "name": "python3"
  },
  "language_info": {
   "codemirror_mode": {
    "name": "ipython",
    "version": 3
   },
   "file_extension": ".py",
   "mimetype": "text/x-python",
   "name": "python",
   "nbconvert_exporter": "python",
   "pygments_lexer": "ipython3",
   "version": "3.13.2"
  }
 },
 "nbformat": 4,
 "nbformat_minor": 2
}
