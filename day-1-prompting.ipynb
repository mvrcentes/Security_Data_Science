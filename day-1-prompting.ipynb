{
 "cells": [
  {
   "cell_type": "markdown",
   "metadata": {
    "id": "jkxRSYjzA1oX"
   },
   "source": [
    "##### Copyright 2024 Google LLC."
   ]
  },
  {
   "cell_type": "code",
   "execution_count": null,
   "metadata": {
    "cellView": "form",
    "execution": {
     "iopub.execute_input": "2024-11-13T10:05:21.694231Z",
     "iopub.status.busy": "2024-11-13T10:05:21.693311Z",
     "iopub.status.idle": "2024-11-13T10:05:21.718369Z",
     "shell.execute_reply": "2024-11-13T10:05:21.717194Z",
     "shell.execute_reply.started": "2024-11-13T10:05:21.694187Z"
    },
    "id": "5u5OZ2ShA3BA",
    "jupyter": {
     "source_hidden": true
    },
    "trusted": true
   },
   "outputs": [],
   "source": [
    "# @title Licensed under the Apache License, Version 2.0 (the \"License\");\n",
    "# you may not use this file except in compliance with the License.\n",
    "# You may obtain a copy of the License at\n",
    "#\n",
    "# https://www.apache.org/licenses/LICENSE-2.0\n",
    "#\n",
    "# Unless required by applicable law or agreed to in writing, software\n",
    "# distributed under the License is distributed on an \"AS IS\" BASIS,\n",
    "# WITHOUT WARRANTIES OR CONDITIONS OF ANY KIND, either express or implied.\n",
    "# See the License for the specific language governing permissions and\n",
    "# limitations under the License."
   ]
  },
  {
   "cell_type": "markdown",
   "metadata": {
    "id": "csNPnkuCobmG"
   },
   "source": [
    "# Day 1 - Prompting\n",
    "\n",
    "Welcome to the Kaggle 5-day Generative AI course!\n",
    "\n",
    "This notebook will show you how to get started with the Gemini API and walk you through some of the example prompts and techniques that you can also read about in the Prompting whitepaper. You don't need to read the whitepaper to use this notebook, but the papers will give you some theoretical context and background to complement this interactive notebook.\n",
    "\n",
    "\n",
    "## Before you begin\n",
    "\n",
    "In this notebook, you'll start exploring prompts and prompt parameters using the Python SDK and AI Studio. For some inspiration, you might enjoy exploring some apps that have been built using the Gemini family of models. Here are a few that we like, and we think you will too.\n",
    "\n",
    "* [TextFX](https://textfx.withgoogle.com/) is a suite of AI-powered tools for rappers, made in collaboration with Lupe Fiasco,\n",
    "* [SQL Talk](https://sql-talk-r5gdynozbq-uc.a.run.app/) shows how you can talk directly to a database using the Gemini API,\n",
    "* [NotebookLM](https://notebooklm.google/) uses Gemini models to build your own personal AI research assistant.\n",
    "\n",
    "\n",
    "## For help\n",
    "\n",
    "**Common issues are covered in the [FAQ and troubleshooting guide](https://www.kaggle.com/code/markishere/day-0-troubleshooting-and-faqs).**\n",
    "\n",
    "### A note on the Gemini API and Vertex AI\n",
    "\n",
    "In the whitepapers, most of the example code uses the Enterprise [Vertex AI platform](https://cloud.google.com/vertex-ai). In contrast, this notebook, along with the others in this series, will use the [Gemini Developer API](https://ai.google.dev/gemini-api/) and [AI Studio](https://aistudio.google.com/).\n",
    "\n",
    "Both APIs provide access to the Gemini family of models, and the code to interact with the models is very similar. Vertex provides a world-class platform for enterprises, governments and advanced users that need powerful features like data governance, ML ops and deep Google Cloud integration.\n",
    "\n",
    "AI Studio is free to use and only requires a compatible Google account to log in and get started. It is deeply integrated with the Gemini API, which comes with a generous [free tier](https://ai.google.dev/pricing) that you can use to run the code in these exercises.\n",
    "\n",
    "If you are already set up with Google Cloud, you can check out the [Enterprise Gemini API](https://cloud.google.com/vertex-ai/generative-ai/docs/model-reference/inference) through Vertex AI, and run the samples directly from the supplied whitepapers."
   ]
  },
  {
   "cell_type": "markdown",
   "metadata": {
    "id": "f00ea7c99e44"
   },
   "source": [
    "## Get started with Kaggle notebooks\n",
    "\n",
    "If this is your first time using a Kaggle notebook, welcome! You can read about how to use Kaggle notebooks [in the docs](https://www.kaggle.com/docs/notebooks).\n",
    "\n",
    "First, you will need to phone verify your account at kaggle.com/settings.\n",
    "\n",
    "![](https://storage.googleapis.com/kaggle-media/Images/5dgai_0.png)"
   ]
  },
  {
   "cell_type": "markdown",
   "metadata": {},
   "source": [
    "To run this notebook, as well as the others in this course, you will need to make a copy, or fork, the notebook. Look for the `Copy and Edit` button in the top-right, and **click it** to make an editable, private copy of the notebook. It should look like this one:\n",
    "\n",
    "![Copy and Edit button](https://storage.googleapis.com/kaggle-media/Images/5gdai_sc_1.png)\n",
    "\n",
    "Your copy will now have a ▶️ **Run** button next to each code cell that you can press to execute that cell. These notebooks are expected to be run in order from top-to-bottom, but you are encouraged to add new cells, run your own code and explore. If you get stuck, you can try the `Factory reset` option in the `Run` menu, or head back to the original notebook and make a fresh copy.\n",
    "\n",
    "![Run cell button](https://storage.googleapis.com/kaggle-media/Images/5gdai_sc_2.png)\n",
    "\n",
    "### Problems?\n",
    "\n",
    "If you have any problems, head over to the [Kaggle Discord](https://discord.com/invite/kaggle), find the [`#5dgai-q-and-a` channel](https://discord.com/channels/1101210829807956100/1303438695143178251) and ask for help."
   ]
  },
  {
   "cell_type": "markdown",
   "metadata": {
    "id": "ExkOXcPxtTb5"
   },
   "source": [
    "## Get started with the Gemini API\n",
    "\n",
    "All of the exercises in this notebook will use the [Gemini API](https://ai.google.dev/gemini-api/) by way of the [Python SDK](https://pypi.org/project/google-generativeai/). Each of these prompts can be accessed directly in [Google AI Studio](https://aistudio.google.com/) too, so if you would rather use a web interface and skip the code for this activity, look for the <img src=\"https://ai.google.dev/site-assets/images/marketing/home/icon-ais.png\" style=\"height: 24px\" height=24/> AI Studio link on each prompt."
   ]
  },
  {
   "cell_type": "markdown",
   "metadata": {},
   "source": [
    "Next, you will need to add your API key to your Kaggle Notebook as a Kaggle User Secret.\n",
    "\n",
    "![](https://storage.googleapis.com/kaggle-media/Images/5dgai_1.png)\n",
    "![](https://storage.googleapis.com/kaggle-media/Images/5dgai_2.png)\n",
    "![](https://storage.googleapis.com/kaggle-media/Images/5dgai_3.png)\n",
    "![](https://storage.googleapis.com/kaggle-media/Images/5dgai_4.png)"
   ]
  },
  {
   "cell_type": "markdown",
   "metadata": {
    "id": "UAjUV3BsvFXQ"
   },
   "source": [
    "### Install the SDK"
   ]
  },
  {
   "cell_type": "code",
   "execution_count": null,
   "metadata": {
    "execution": {
     "iopub.execute_input": "2024-11-13T10:05:21.720708Z",
     "iopub.status.busy": "2024-11-13T10:05:21.720367Z",
     "iopub.status.idle": "2024-11-13T10:05:21.727477Z",
     "shell.execute_reply": "2024-11-13T10:05:21.726462Z",
     "shell.execute_reply.started": "2024-11-13T10:05:21.720674Z"
    },
    "id": "NzwzJFU9LqkJ",
    "trusted": true
   },
   "outputs": [
    {
     "name": "stdout",
     "output_type": "stream",
     "text": [
      "Note: you may need to restart the kernel to use updated packages.\n"
     ]
    }
   ],
   "source": [
    "%pip install -U -q \"google-generativeai>=0.8.3\" dotenv"
   ]
  },
  {
   "cell_type": "markdown",
   "metadata": {},
   "source": [
    "You do not need to restart the kernel."
   ]
  },
  {
   "cell_type": "code",
   "execution_count": 1,
   "metadata": {
    "execution": {
     "iopub.execute_input": "2024-11-13T10:05:21.729856Z",
     "iopub.status.busy": "2024-11-13T10:05:21.72892Z",
     "iopub.status.idle": "2024-11-13T10:05:22.915433Z",
     "shell.execute_reply": "2024-11-13T10:05:22.914492Z",
     "shell.execute_reply.started": "2024-11-13T10:05:21.729768Z"
    },
    "id": "5DwxYIRavMST",
    "trusted": true
   },
   "outputs": [
    {
     "name": "stderr",
     "output_type": "stream",
     "text": [
      "/Users/mvrcentes/Library/CloudStorage/OneDrive-UVG/Documentos/Semestre_9/Security_Data_Science/Security_Data_Science/myvenv/lib/python3.13/site-packages/tqdm/auto.py:21: TqdmWarning: IProgress not found. Please update jupyter and ipywidgets. See https://ipywidgets.readthedocs.io/en/stable/user_install.html\n",
      "  from .autonotebook import tqdm as notebook_tqdm\n"
     ]
    }
   ],
   "source": [
    "import google.generativeai as genai\n",
    "from IPython.display import HTML, Markdown, display"
   ]
  },
  {
   "cell_type": "markdown",
   "metadata": {
    "id": "DNEt2BCOvOJ1"
   },
   "source": [
    "### Set up your API key\n",
    "\n",
    "To run the following cell, your API key must be stored it in a [Kaggle secret](https://www.kaggle.com/discussions/product-feedback/114053) named `GOOGLE_API_KEY`.\n",
    "\n",
    "If you don't already have an API key, you can grab one from [AI Studio](https://aistudio.google.com/app/apikey). You can find [detailed instructions in the docs](https://ai.google.dev/gemini-api/docs/api-key).\n",
    "\n",
    "To make the key available through Kaggle secrets, choose `Secrets` from the `Add-ons` menu and follow the instructions to add your key or enable it for this notebook."
   ]
  },
  {
   "cell_type": "code",
   "execution_count": 2,
   "metadata": {
    "execution": {
     "iopub.execute_input": "2024-11-13T10:05:22.917393Z",
     "iopub.status.busy": "2024-11-13T10:05:22.916809Z",
     "iopub.status.idle": "2024-11-13T10:05:23.783144Z",
     "shell.execute_reply": "2024-11-13T10:05:23.782217Z",
     "shell.execute_reply.started": "2024-11-13T10:05:22.917345Z"
    },
    "id": "SHl0bkPCvayd",
    "trusted": true
   },
   "outputs": [],
   "source": [
    "import os\n",
    "from dotenv import load_dotenv\n",
    "\n",
    "path = os.path.join(os.getcwd(), '.env.local')\n",
    "load_dotenv(dotenv_path=path, verbose=True, override=True)\n",
    "\n",
    "GOOGLE_API_KEY = os.getenv(\"GOOGLE_API_KEY\")\n",
    "genai.configure(api_key=GOOGLE_API_KEY)"
   ]
  },
  {
   "cell_type": "markdown",
   "metadata": {
    "id": "4e720472fd86"
   },
   "source": [
    "If you received an error response along the lines of `No user secrets exist for kernel id ...`, then you need to add your API key via `Add-ons`, `Secrets` **and** enable it.\n",
    "\n",
    "![Screenshot of the checkbox to enable GOOGLE_API_KEY secret](https://storage.googleapis.com/kaggle-media/Images/5gdai_sc_3.png)"
   ]
  },
  {
   "cell_type": "markdown",
   "metadata": {
    "id": "H_YXCYIKvyZJ"
   },
   "source": [
    "### Run your first prompt\n",
    "\n",
    "In this step, you will test that your API key is set up correctly by making a request. The `gemini-1.5-flash` model has been selected here."
   ]
  },
  {
   "cell_type": "code",
   "execution_count": 3,
   "metadata": {
    "execution": {
     "iopub.execute_input": "2024-11-13T10:05:23.786762Z",
     "iopub.status.busy": "2024-11-13T10:05:23.786332Z",
     "iopub.status.idle": "2024-11-13T10:05:25.509971Z",
     "shell.execute_reply": "2024-11-13T10:05:25.508844Z",
     "shell.execute_reply.started": "2024-11-13T10:05:23.786716Z"
    },
    "id": "BV1o0PmcvyJF",
    "trusted": true
   },
   "outputs": [
    {
     "name": "stdout",
     "output_type": "stream",
     "text": [
      "Imagine you have a super smart puppy.  You teach it tricks, like fetching the ball or sitting when you say \"sit\".  The more you teach it, the better it gets at those tricks, right?\n",
      "\n",
      "AI is kind of like that super smart puppy, but instead of tricks, it learns from information.  We feed it lots and lots of information – like pictures of cats and dogs, or words from books.  The more information it gets, the smarter it becomes at figuring things out.\n",
      "\n",
      "It can learn to:\n",
      "\n",
      "* **Recognize things:**  Like knowing a picture is a cat, even if it's a fluffy one you've never seen before.\n",
      "* **Understand words:** Like understanding what you mean when you ask it a question.\n",
      "* **Solve problems:** Like figuring out the fastest way to get from your house to school.\n",
      "\n",
      "It's not really *thinking* like a person, but it's really good at following instructions and learning from examples.  It's like a powerful tool that helps us do lots of cool things!  Think of it as a super-powered calculator that can do much more than just add and subtract.\n",
      "\n"
     ]
    }
   ],
   "source": [
    "flash = genai.GenerativeModel('gemini-1.5-flash')\n",
    "response = flash.generate_content(\"Explain AI to me like I'm a kid.\")\n",
    "print(response.text)"
   ]
  },
  {
   "cell_type": "markdown",
   "metadata": {
    "id": "f60ed9d8ae41"
   },
   "source": [
    "The response often comes back in markdown format, which you can render directly in this notebook."
   ]
  },
  {
   "cell_type": "code",
   "execution_count": 4,
   "metadata": {
    "execution": {
     "iopub.execute_input": "2024-11-13T10:05:25.511712Z",
     "iopub.status.busy": "2024-11-13T10:05:25.5113Z",
     "iopub.status.idle": "2024-11-13T10:05:25.519989Z",
     "shell.execute_reply": "2024-11-13T10:05:25.518926Z",
     "shell.execute_reply.started": "2024-11-13T10:05:25.511668Z"
    },
    "id": "c933e5e460a5",
    "trusted": true
   },
   "outputs": [
    {
     "data": {
      "text/markdown": [
       "Imagine you have a super smart puppy.  You teach it tricks, like fetching the ball or sitting when you say \"sit\".  The more you teach it, the better it gets at those tricks, right?\n",
       "\n",
       "AI is kind of like that super smart puppy, but instead of tricks, it learns from information.  We feed it lots and lots of information – like pictures of cats and dogs, or words from books.  The more information it gets, the smarter it becomes at figuring things out.\n",
       "\n",
       "It can learn to:\n",
       "\n",
       "* **Recognize things:**  Like knowing a picture is a cat, even if it's a fluffy one you've never seen before.\n",
       "* **Understand words:** Like understanding what you mean when you ask it a question.\n",
       "* **Solve problems:** Like figuring out the fastest way to get from your house to school.\n",
       "\n",
       "It's not really *thinking* like a person, but it's really good at following instructions and learning from examples.  It's like a powerful tool that helps us do lots of cool things!  Think of it as a super-powered calculator that can do much more than just add and subtract.\n"
      ],
      "text/plain": [
       "<IPython.core.display.Markdown object>"
      ]
     },
     "execution_count": 4,
     "metadata": {},
     "output_type": "execute_result"
    }
   ],
   "source": [
    "Markdown(response.text)"
   ]
  },
  {
   "cell_type": "markdown",
   "metadata": {
    "id": "byx0pT9ZMW2Q"
   },
   "source": [
    "### Start a chat\n",
    "\n",
    "The previous example uses a single-turn, text-in/text-out structure, but you can also set up a multi-turn chat structure too."
   ]
  },
  {
   "cell_type": "code",
   "execution_count": 5,
   "metadata": {
    "execution": {
     "iopub.execute_input": "2024-11-13T10:05:25.522042Z",
     "iopub.status.busy": "2024-11-13T10:05:25.521624Z",
     "iopub.status.idle": "2024-11-13T10:05:26.061292Z",
     "shell.execute_reply": "2024-11-13T10:05:26.060247Z",
     "shell.execute_reply.started": "2024-11-13T10:05:25.521996Z"
    },
    "id": "lV_S5ZL5MidD",
    "trusted": true
   },
   "outputs": [
    {
     "name": "stdout",
     "output_type": "stream",
     "text": [
      "It's nice to meet you, Zlork!  How can I help you today?\n",
      "\n"
     ]
    }
   ],
   "source": [
    "chat = flash.start_chat(history=[])\n",
    "response = chat.send_message('Hello! My name is Zlork.')\n",
    "print(response.text)"
   ]
  },
  {
   "cell_type": "code",
   "execution_count": 6,
   "metadata": {
    "execution": {
     "iopub.execute_input": "2024-11-13T10:05:26.062804Z",
     "iopub.status.busy": "2024-11-13T10:05:26.06248Z",
     "iopub.status.idle": "2024-11-13T10:05:27.754542Z",
     "shell.execute_reply": "2024-11-13T10:05:27.753432Z",
     "shell.execute_reply.started": "2024-11-13T10:05:26.062756Z"
    },
    "id": "7b0372c3c64a",
    "trusted": true
   },
   "outputs": [
    {
     "name": "stdout",
     "output_type": "stream",
     "text": [
      "Many dinosaurs likely had feathers!  While we often picture scaly reptiles,  evidence shows that many, if not most, theropod dinosaurs (the group that includes *Tyrannosaurus rex* and *Velociraptor*) were covered in feathers, ranging from simple filaments to complex, bird-like plumage. This discovery significantly changed our understanding of dinosaur evolution and their relationship to birds.\n",
      "\n"
     ]
    }
   ],
   "source": [
    "response = chat.send_message('Can you tell something interesting about dinosaurs?')\n",
    "print(response.text)"
   ]
  },
  {
   "cell_type": "code",
   "execution_count": 7,
   "metadata": {
    "execution": {
     "iopub.execute_input": "2024-11-13T10:05:27.756315Z",
     "iopub.status.busy": "2024-11-13T10:05:27.755901Z",
     "iopub.status.idle": "2024-11-13T10:05:28.890313Z",
     "shell.execute_reply": "2024-11-13T10:05:28.889171Z",
     "shell.execute_reply.started": "2024-11-13T10:05:27.756269Z"
    },
    "id": "d3f9591392a7",
    "trusted": true
   },
   "outputs": [
    {
     "name": "stdout",
     "output_type": "stream",
     "text": [
      "Yes, your name is Zlork.\n",
      "\n"
     ]
    }
   ],
   "source": [
    "# While you have the `chat` object around, the conversation state\n",
    "# persists. Confirm that by asking if it knows my name.\n",
    "response = chat.send_message('Do you remember what my name is?')\n",
    "print(response.text)"
   ]
  },
  {
   "cell_type": "markdown",
   "metadata": {
    "id": "2KAjpr1200sW"
   },
   "source": [
    "### Choose a model\n",
    "\n",
    "The Gemini API provides access to a number of models from the Gemini model family. Read about the available models and their capabilities on the [model overview page](https://ai.google.dev/gemini-api/docs/models/gemini).\n",
    "\n",
    "In this step you'll use the API to list all of the available models."
   ]
  },
  {
   "cell_type": "code",
   "execution_count": 8,
   "metadata": {
    "execution": {
     "iopub.execute_input": "2024-11-13T10:05:28.89188Z",
     "iopub.status.busy": "2024-11-13T10:05:28.891522Z",
     "iopub.status.idle": "2024-11-13T10:05:29.666267Z",
     "shell.execute_reply": "2024-11-13T10:05:29.665119Z",
     "shell.execute_reply.started": "2024-11-13T10:05:28.891837Z"
    },
    "id": "uUUZa2uq2jDm",
    "trusted": true
   },
   "outputs": [
    {
     "name": "stdout",
     "output_type": "stream",
     "text": [
      "models/chat-bison-001\n",
      "models/text-bison-001\n",
      "models/embedding-gecko-001\n",
      "models/gemini-1.0-pro-latest\n",
      "models/gemini-1.0-pro\n",
      "models/gemini-pro\n",
      "models/gemini-1.0-pro-001\n",
      "models/gemini-1.0-pro-vision-latest\n",
      "models/gemini-pro-vision\n",
      "models/gemini-1.5-pro-latest\n",
      "models/gemini-1.5-pro-001\n",
      "models/gemini-1.5-pro-002\n",
      "models/gemini-1.5-pro\n",
      "models/gemini-1.5-flash-latest\n",
      "models/gemini-1.5-flash-001\n",
      "models/gemini-1.5-flash-001-tuning\n",
      "models/gemini-1.5-flash\n",
      "models/gemini-1.5-flash-002\n",
      "models/gemini-1.5-flash-8b\n",
      "models/gemini-1.5-flash-8b-001\n",
      "models/gemini-1.5-flash-8b-latest\n",
      "models/gemini-1.5-flash-8b-exp-0827\n",
      "models/gemini-1.5-flash-8b-exp-0924\n",
      "models/gemini-2.0-flash-exp\n",
      "models/gemini-2.0-flash\n",
      "models/gemini-2.0-flash-001\n",
      "models/gemini-2.0-flash-lite-preview\n",
      "models/gemini-2.0-flash-lite-preview-02-05\n",
      "models/gemini-2.0-pro-exp\n",
      "models/gemini-2.0-pro-exp-02-05\n",
      "models/gemini-exp-1206\n",
      "models/gemini-2.0-flash-thinking-exp-01-21\n",
      "models/gemini-2.0-flash-thinking-exp\n",
      "models/gemini-2.0-flash-thinking-exp-1219\n",
      "models/learnlm-1.5-pro-experimental\n",
      "models/embedding-001\n",
      "models/text-embedding-004\n",
      "models/aqa\n",
      "models/imagen-3.0-generate-002\n"
     ]
    }
   ],
   "source": [
    "for model in genai.list_models():\n",
    "  print(model.name)"
   ]
  },
  {
   "cell_type": "markdown",
   "metadata": {
    "id": "rN49kSI54R1v"
   },
   "source": [
    "The [`models.list`](https://ai.google.dev/api/models#method:-models.list) response also returns additional information about the model's capabilities, like the token limits and supported parameters."
   ]
  },
  {
   "cell_type": "code",
   "execution_count": 9,
   "metadata": {
    "execution": {
     "iopub.execute_input": "2024-11-13T10:05:29.667716Z",
     "iopub.status.busy": "2024-11-13T10:05:29.667381Z",
     "iopub.status.idle": "2024-11-13T10:05:30.437751Z",
     "shell.execute_reply": "2024-11-13T10:05:30.43676Z",
     "shell.execute_reply.started": "2024-11-13T10:05:29.667682Z"
    },
    "id": "k7JJ1K6j4Rl8",
    "trusted": true
   },
   "outputs": [
    {
     "name": "stdout",
     "output_type": "stream",
     "text": [
      "Model(name='models/gemini-1.5-flash',\n",
      "      base_model_id='',\n",
      "      version='001',\n",
      "      display_name='Gemini 1.5 Flash',\n",
      "      description=('Alias that points to the most recent stable version of Gemini 1.5 Flash, our '\n",
      "                   'fast and versatile multimodal model for scaling across diverse tasks.'),\n",
      "      input_token_limit=1000000,\n",
      "      output_token_limit=8192,\n",
      "      supported_generation_methods=['generateContent', 'countTokens'],\n",
      "      temperature=1.0,\n",
      "      max_temperature=2.0,\n",
      "      top_p=0.95,\n",
      "      top_k=40)\n"
     ]
    }
   ],
   "source": [
    "for model in genai.list_models():\n",
    "  if model.name == 'models/gemini-1.5-flash':\n",
    "    print(model)\n",
    "    break"
   ]
  },
  {
   "cell_type": "markdown",
   "metadata": {
    "id": "5rU_UBlZdooM"
   },
   "source": [
    "## Explore generation parameters\n",
    "\n"
   ]
  },
  {
   "cell_type": "markdown",
   "metadata": {
    "id": "G7NfEizeipbW"
   },
   "source": [
    "### Output length\n",
    "\n",
    "When generating text with an LLM, the output length affects cost and performance. Generating more tokens increases computation, leading to higher energy consumption, latency, and cost.\n",
    "\n",
    "To stop the model from generating tokens past a limit, you can specify the `max_output_tokens` parameter when using the Gemini API. Specifying this parameter does not influence the generation of the output tokens, so the output will not become more stylistically or textually succinct, but it will stop generating tokens once the specified length is reached. Prompt engineering may be required to generate a more complete output for your given limit."
   ]
  },
  {
   "cell_type": "code",
   "execution_count": 10,
   "metadata": {
    "execution": {
     "iopub.execute_input": "2024-11-13T10:05:30.439731Z",
     "iopub.status.busy": "2024-11-13T10:05:30.43932Z",
     "iopub.status.idle": "2024-11-13T10:05:31.923823Z",
     "shell.execute_reply": "2024-11-13T10:05:31.922836Z",
     "shell.execute_reply.started": "2024-11-13T10:05:30.439685Z"
    },
    "id": "qVf23JsIi9ma",
    "trusted": true
   },
   "outputs": [
    {
     "name": "stdout",
     "output_type": "stream",
     "text": [
      "## The Enduring Significance of Olives in Modern Society\n",
      "\n",
      "The olive tree, *Olea europaea*, has been entwined with human civilization for millennia.  Far more than just a source of culinary delight, the olive and its products hold profound economic, social, cultural, and even environmental importance in modern society.  Its significance extends beyond the simple act of eating an olive; it speaks to enduring traditions, burgeoning industries, and a commitment to sustainable practices in an increasingly interconnected world.\n",
      "\n",
      "The economic significance of olives is undeniable. The olive oil industry, a cornerstone of the Mediterranean diet, is a multi-billion dollar global enterprise.  Countries like Spain, Italy, Greece, and Turkey are major producers, with their economies deeply reliant on olive cultivation and processing. This industry provides employment for millions, from farmers and harvesters to processors, distributors, and retailers.  The economic ripple effect is substantial, impacting related sectors such as tourism, hospitality, and packaging.  The high value of extra virgin\n"
     ]
    }
   ],
   "source": [
    "short_model = genai.GenerativeModel(\n",
    "    'gemini-1.5-flash',\n",
    "    generation_config=genai.GenerationConfig(max_output_tokens=200))\n",
    "\n",
    "response = short_model.generate_content('Write a 1000 word essay on the importance of olives in modern society.')\n",
    "print(response.text)"
   ]
  },
  {
   "cell_type": "code",
   "execution_count": 11,
   "metadata": {
    "execution": {
     "iopub.execute_input": "2024-11-13T10:05:31.925864Z",
     "iopub.status.busy": "2024-11-13T10:05:31.925426Z",
     "iopub.status.idle": "2024-11-13T10:05:32.947457Z",
     "shell.execute_reply": "2024-11-13T10:05:32.946359Z",
     "shell.execute_reply.started": "2024-11-13T10:05:31.925817Z"
    },
    "id": "W-3kR2F5kdMR",
    "trusted": true
   },
   "outputs": [
    {
     "name": "stdout",
     "output_type": "stream",
     "text": [
      "From sun-drenched groves, a bounty bright,\n",
      "The olive's gift, a pure delight.\n",
      "In oil it flows, a kitchen's grace,\n",
      "On salads poured, a vibrant taste.\n",
      "\n",
      "From ancient trees, a history told,\n",
      "A symbol strong, both new and old.\n",
      "In jars it waits, a savory prize,\n",
      "A taste of sun, beneath the skies. \n",
      "A modern staple, rich and deep,\n",
      "The olive's promise, secrets keep.\n",
      "\n"
     ]
    }
   ],
   "source": [
    "response = short_model.generate_content('Write a short poem on the importance of olives in modern society.')\n",
    "print(response.text)"
   ]
  },
  {
   "cell_type": "markdown",
   "metadata": {
    "id": "3ZhDSLB6lqqB"
   },
   "source": [
    "Explore with your own prompts. Try a prompt with a restrictive output limit and then adjust the prompt to work within that limit."
   ]
  },
  {
   "cell_type": "code",
   "execution_count": 12,
   "metadata": {},
   "outputs": [
    {
     "name": "stdout",
     "output_type": "stream",
     "text": [
      "Sí, sé hablar español.\n",
      "\n",
      "Sin embargo, no puedo \"ver\" el contenido de una suscripción de API para determinar si es premium o gratuita.  Necesitaría acceso a la información de la API específica (generalmente a través de credenciales o una llamada a la API misma) para poder determinar su nivel de suscripción.  No tengo acceso a información privada de usuarios o sistemas externos.\n",
      "\n"
     ]
    }
   ],
   "source": [
    "short_model = genai.GenerativeModel(\n",
    "    'gemini-1.5-flash',\n",
    "    generation_config=genai.GenerationConfig(max_output_tokens=200))\n",
    "\n",
    "response = short_model.generate_content('¿Sabes hablar en español? ¿puedes ver que contiene la suscripción del APi si es premium o la free?')\n",
    "print(response.text)"
   ]
  },
  {
   "cell_type": "markdown",
   "metadata": {
    "id": "alx-WaAvir_9"
   },
   "source": [
    "### Temperature\n",
    "\n",
    "Temperature controls the degree of randomness in token selection. Higher temperatures result in a higher number of candidate tokens from which the next output token is selected, and can produce more diverse results, while lower temperatures have the opposite effect, such that a temperature of 0 results in greedy decoding, selecting the most probable token at each step.\n",
    "\n",
    "Temperature doesn't provide any guarantees of randomness, but it can be used to \"nudge\" the output somewhat.\n",
    "\n",
    "**Note that if you see a 429 Resource Exhausted error here, you may be able to edit the words in the prompt slightly to progress.**"
   ]
  },
  {
   "cell_type": "code",
   "execution_count": 14,
   "metadata": {
    "execution": {
     "iopub.execute_input": "2024-11-13T10:05:32.952788Z",
     "iopub.status.busy": "2024-11-13T10:05:32.952338Z",
     "iopub.status.idle": "2024-11-13T10:05:35.768454Z",
     "shell.execute_reply": "2024-11-13T10:05:35.767323Z",
     "shell.execute_reply.started": "2024-11-13T10:05:32.952736Z"
    },
    "id": "SHraGMzqnZqt",
    "trusted": true
   },
   "outputs": [
    {
     "name": "stdout",
     "output_type": "stream",
     "text": [
      "[text: \"Maroon\\n\"\n",
      "]\n",
      "Maroon\n",
      " -------------------------\n",
      "[text: \"Aquamarine\\n\"\n",
      "]\n",
      "Aquamarine\n",
      " -------------------------\n",
      "[text: \"Maroon\\n\"\n",
      "]\n",
      "Maroon\n",
      " -------------------------\n",
      "[text: \"Marigold\\n\"\n",
      "]\n",
      "Marigold\n",
      " -------------------------\n",
      "[text: \"Marigold\\n\"\n",
      "]\n",
      "Marigold\n",
      " -------------------------\n"
     ]
    }
   ],
   "source": [
    "from google.api_core import retry\n",
    "\n",
    "high_temp_model = genai.GenerativeModel(\n",
    "    'gemini-1.5-flash',\n",
    "    generation_config=genai.GenerationConfig(temperature=2.0))\n",
    "\n",
    "\n",
    "# When running lots of queries, it's a good practice to use a retry policy so your code\n",
    "# automatically retries when hitting Resource Exhausted (quota limit) errors.\n",
    "retry_policy = {\n",
    "    \"retry\": retry.Retry(predicate=retry.if_transient_error, initial=10, multiplier=1.5, timeout=300)\n",
    "}\n",
    "\n",
    "for _ in range(5):\n",
    "  response = high_temp_model.generate_content('Pick a random colour... (respond in a single word)',\n",
    "                                              request_options=retry_policy)\n",
    "  if response.parts:\n",
    "    print(response.parts)\n",
    "    print(response.text, '-' * 25)"
   ]
  },
  {
   "cell_type": "markdown",
   "metadata": {
    "id": "z3J4pCTuof7e"
   },
   "source": [
    "Now try the same prompt with temperature set to zero. Note that the output is not completely deterministic, as other parameters affect token selection, but the results will tend to be more stable."
   ]
  },
  {
   "cell_type": "code",
   "execution_count": 15,
   "metadata": {
    "execution": {
     "iopub.execute_input": "2024-11-13T10:05:35.770084Z",
     "iopub.status.busy": "2024-11-13T10:05:35.769722Z",
     "iopub.status.idle": "2024-11-13T10:05:58.142978Z",
     "shell.execute_reply": "2024-11-13T10:05:58.141844Z",
     "shell.execute_reply.started": "2024-11-13T10:05:35.770048Z"
    },
    "id": "clymkWv-PfUZ",
    "trusted": true
   },
   "outputs": [
    {
     "name": "stdout",
     "output_type": "stream",
     "text": [
      "Maroon\n",
      " -------------------------\n",
      "Maroon\n",
      " -------------------------\n",
      "Maroon\n",
      " -------------------------\n",
      "Maroon\n",
      " -------------------------\n",
      "Maroon\n",
      " -------------------------\n"
     ]
    }
   ],
   "source": [
    "low_temp_model = genai.GenerativeModel(\n",
    "    'gemini-1.5-flash',\n",
    "    generation_config=genai.GenerationConfig(temperature=0.0))\n",
    "\n",
    "for _ in range(5):\n",
    "  response = low_temp_model.generate_content('Pick a random colour... (respond in a single word)',\n",
    "                                             request_options=retry_policy)\n",
    "  if response.parts:\n",
    "    print(response.text, '-' * 25)"
   ]
  },
  {
   "cell_type": "markdown",
   "metadata": {
    "id": "St5nt3vzitsZ"
   },
   "source": [
    "### Top-K and top-P\n",
    "\n",
    "Like temperature, top-K and top-P parameters are also used to control the diversity of the model's output.\n",
    "\n",
    "Top-K is a positive integer that defines the number of most probable tokens from which to select the output token. A top-K of 1 selects a single token, performing greedy decoding.\n",
    "\n",
    "Top-P defines the probability threshold that, once cumulatively exceeded, tokens stop being selected as candidates. A top-P of 0 is typically equivalent to greedy decoding, and a top-P of 1 typically selects every token in the model's vocabulary.\n",
    "\n",
    "When both are supplied, the Gemini API will filter top-K tokens first, then top-P and then finally sample from the candidate tokens using the supplied temperature.\n",
    "\n",
    "Run this example a number of times, change the settings and observe the change in output."
   ]
  },
  {
   "cell_type": "code",
   "execution_count": 30,
   "metadata": {
    "execution": {
     "iopub.execute_input": "2024-11-13T10:05:58.144702Z",
     "iopub.status.busy": "2024-11-13T10:05:58.14437Z",
     "iopub.status.idle": "2024-11-13T10:06:13.016023Z",
     "shell.execute_reply": "2024-11-13T10:06:13.014828Z",
     "shell.execute_reply.started": "2024-11-13T10:05:58.144669Z"
    },
    "id": "lPlzpEavUV8F",
    "trusted": true
   },
   "outputs": [
    {
     "name": "stdout",
     "output_type": "stream",
     "text": [
      "Bartholomew, a ginger tabby with a penchant for mischief and a disdain for routine, was bored. The sunbeams that usually danced on his favorite rug were dull, the birds outside chirping the same monotonous tune. He yearned for something more, something… adventurous.\n",
      "\n",
      "One day, a delivery truck arrived, its back doors groaning open to reveal a mountain of cardboard boxes. Bartholomew's eyes gleamed. This was it! His chance for adventure. He slipped out the cat flap, a silent shadow, and crept towards the truck.\n",
      "\n",
      "He found a box just his size, a perfect vessel for his journey. He squeezed inside, the cardboard walls smelling of faraway places and exciting possibilities. The truck rumbled to life, and Bartholomew, nestled in his cardboard haven, felt a thrill course through him.\n",
      "\n",
      "The journey was a blur of sights and sounds. He saw bustling city streets, rolling green hills, and a vast blue ocean. He heard the honking of horns, the chatter of people, and the rhythmic hum of the engine. He was a stowaway, a secret adventurer, and he loved it.\n",
      "\n",
      "Finally, the truck stopped. Bartholomew, his heart pounding with anticipation, peeked out of his box. He was in a small town, surrounded by quaint houses with flower boxes and picket fences. The air smelled of fresh-baked bread and blooming roses.\n",
      "\n",
      "He leaped out of the box, his paws landing on soft grass. He stretched, his whiskers twitching with excitement. This was his new world, his own personal adventure. He explored the town, sniffing at flowers, chasing butterflies, and napping in sun-drenched gardens.\n",
      "\n",
      "He met a friendly dog named Sparky, who shared his love for exploring. Together, they chased squirrels, rolled in the grass, and shared stories of their adventures. Bartholomew, the once bored house cat, had found a life filled with joy and wonder.\n",
      "\n",
      "Days turned into weeks, and Bartholomew, the adventurer, had become a beloved member of the town. He had found his purpose, his reason for being. He had discovered that adventure wasn't about faraway lands or grand journeys, but about embracing the unknown, making new friends, and finding joy in the simple things.\n",
      "\n",
      "One day, he saw a familiar truck pull into town. It was the same truck that had brought him to this magical place. He knew it was time to go home. He had found his adventure, but he also knew that his family missed him.\n",
      "\n",
      "He said goodbye to Sparky and the town, his heart filled with gratitude. He hopped into the truck, his cardboard box waiting for him. As the truck rumbled away, he looked back at the town, a smile on his face. He knew that he would never forget his adventure, and he knew that he would always carry a piece of it in his heart. \n",
      "\n"
     ]
    }
   ],
   "source": [
    "model = genai.GenerativeModel(\n",
    "    'gemini-1.5-flash-001',\n",
    "    generation_config=genai.GenerationConfig(\n",
    "        # These are the default values for gemini-1.5-flash-001.\n",
    "        temperature=1.0,\n",
    "        top_k=60,\n",
    "        top_p=0.15,\n",
    "    ))\n",
    "\n",
    "story_prompt = \"You are a creative writer. Write a short story about a cat who goes on an adventure.\"\n",
    "response = model.generate_content(story_prompt, request_options=retry_policy)\n",
    "print(response.text)"
   ]
  },
  {
   "cell_type": "markdown",
   "metadata": {
    "id": "rMrYs1koY6DX"
   },
   "source": [
    "## Prompting\n",
    "\n",
    "This section contains some prompts from the chapter for you to try out directly in the API. Try changing the text here to see how each prompt performs with different instructions, more examples, or any other changes you can think of."
   ]
  },
  {
   "cell_type": "markdown",
   "metadata": {
    "id": "hhj_tQidZJP7"
   },
   "source": [
    "### Zero-shot\n",
    "\n",
    "Zero-shot prompts are prompts that describe the request for the model directly.\n",
    "\n",
    "<table align=left>\n",
    "  <td>\n",
    "    <a target=\"_blank\" href=\"https://aistudio.google.com/prompts/1gzKKgDHwkAvexG5Up0LMtl1-6jKMKe4g\"><img src=\"https://ai.google.dev/site-assets/images/marketing/home/icon-ais.png\" style=\"height: 24px\" height=24/> Open in AI Studio</a>\n",
    "  </td>\n",
    "</table>"
   ]
  },
  {
   "cell_type": "code",
   "execution_count": 33,
   "metadata": {
    "execution": {
     "iopub.execute_input": "2024-11-13T10:06:13.017438Z",
     "iopub.status.busy": "2024-11-13T10:06:13.017134Z",
     "iopub.status.idle": "2024-11-13T10:06:13.439879Z",
     "shell.execute_reply": "2024-11-13T10:06:13.438828Z",
     "shell.execute_reply.started": "2024-11-13T10:06:13.017407Z"
    },
    "id": "1_t-cwnDZzbH",
    "trusted": true
   },
   "outputs": [
    {
     "name": "stdout",
     "output_type": "stream",
     "text": [
      "Sentimiento: **POSITIVO**\n"
     ]
    }
   ],
   "source": [
    "model = genai.GenerativeModel(\n",
    "    'gemini-1.5-flash-001',\n",
    "    generation_config=genai.GenerationConfig(\n",
    "        temperature=0.1,\n",
    "        top_p=1,\n",
    "        max_output_tokens=7,\n",
    "    ))\n",
    "\n",
    "zero_shot_prompt = \"\"\"\n",
    "Clasifica las reseñas de películas como POSITIVAS, NEUTRALES o NEGATIVAS.\n",
    "Reseña: \"Her\" es un estudio perturbador que revela la dirección\n",
    "hacia la que se dirige la humanidad si se permite que la IA siga evolucionando,\n",
    "sin control. Ojalá hubiera más películas como esta obra maestra.\n",
    "Sentimiento:\n",
    "\"\"\"\n",
    "\n",
    "response = model.generate_content(zero_shot_prompt, request_options=retry_policy)\n",
    "print(response.text)"
   ]
  },
  {
   "cell_type": "markdown",
   "metadata": {
    "id": "3b5568bdeb11"
   },
   "source": [
    "#### Enum mode\n",
    "\n",
    "The models are trained to generate text, and can sometimes produce more text than you may wish for. In the preceding example, the model will output the label, sometimes it can include a preceding \"Sentiment\" label, and without an output token limit, it may also add explanatory text afterwards.\n",
    "\n",
    "The Gemini API has an [Enum mode](https://github.com/google-gemini/cookbook/blob/main/quickstarts/Enum.ipynb) feature that allows you to constrain the output to a fixed set of values."
   ]
  },
  {
   "cell_type": "code",
   "execution_count": 35,
   "metadata": {
    "execution": {
     "iopub.execute_input": "2024-11-13T10:06:13.442218Z",
     "iopub.status.busy": "2024-11-13T10:06:13.441288Z",
     "iopub.status.idle": "2024-11-13T10:06:39.436155Z",
     "shell.execute_reply": "2024-11-13T10:06:39.435103Z",
     "shell.execute_reply.started": "2024-11-13T10:06:13.44217Z"
    },
    "id": "ad118a56c598",
    "trusted": true
   },
   "outputs": [
    {
     "name": "stdout",
     "output_type": "stream",
     "text": [
      "positive\n"
     ]
    }
   ],
   "source": [
    "import enum\n",
    "\n",
    "class Sentiment(enum.Enum):\n",
    "    POSITIVE = \"positive\"\n",
    "    NEUTRAL = \"neutral\"\n",
    "    NEGATIVE = \"negative\"\n",
    "\n",
    "\n",
    "model = genai.GenerativeModel(\n",
    "    'gemini-1.5-flash-001',\n",
    "    generation_config=genai.GenerationConfig(\n",
    "        response_mime_type=\"text/x.enum\",\n",
    "        response_schema=Sentiment\n",
    "    ))\n",
    "\n",
    "response = model.generate_content(zero_shot_prompt, request_options=retry_policy)\n",
    "print(response.text)"
   ]
  },
  {
   "cell_type": "markdown",
   "metadata": {
    "id": "0udiSwNbv45W"
   },
   "source": [
    "### One-shot and few-shot\n",
    "\n",
    "Providing an example of the expected response is known as a \"one-shot\" prompt. When you provide multiple examples, it is a \"few-shot\" prompt.\n",
    "\n",
    "<table align=left>\n",
    "  <td>\n",
    "    <a target=\"_blank\" href=\"https://aistudio.google.com/prompts/1jjWkjUSoMXmLvMJ7IzADr_GxHPJVV2bg\"><img src=\"https://ai.google.dev/site-assets/images/marketing/home/icon-ais.png\" style=\"height: 24px\" height=24/> Open in AI Studio</a>\n",
    "  </td>\n",
    "</table>\n"
   ]
  },
  {
   "cell_type": "code",
   "execution_count": 36,
   "metadata": {
    "execution": {
     "iopub.execute_input": "2024-11-13T10:06:39.437995Z",
     "iopub.status.busy": "2024-11-13T10:06:39.437626Z",
     "iopub.status.idle": "2024-11-13T10:06:40.047283Z",
     "shell.execute_reply": "2024-11-13T10:06:40.046169Z",
     "shell.execute_reply.started": "2024-11-13T10:06:39.437959Z"
    },
    "id": "hd4mVUukwOKZ",
    "trusted": true
   },
   "outputs": [
    {
     "name": "stdout",
     "output_type": "stream",
     "text": [
      "```json\n",
      "{\n",
      "  \"size\": \"large\",\n",
      "  \"type\": \"normal\",\n",
      "  \"ingredients\": [\"cheese\", \"pineapple\"]\n",
      "}\n",
      "```\n",
      "\n"
     ]
    }
   ],
   "source": [
    "model = genai.GenerativeModel(\n",
    "    'gemini-1.5-flash-latest',\n",
    "    generation_config=genai.GenerationConfig(\n",
    "        temperature=0.1,\n",
    "        top_p=1,\n",
    "        max_output_tokens=250,\n",
    "    ))\n",
    "\n",
    "few_shot_prompt = \"\"\"Parse a customer's pizza order into valid JSON:\n",
    "\n",
    "EXAMPLE:\n",
    "I want a small pizza with cheese, tomato sauce, and pepperoni.\n",
    "JSON Response:\n",
    "```\n",
    "{\n",
    "\"size\": \"small\",\n",
    "\"type\": \"normal\",\n",
    "\"ingredients\": [\"cheese\", \"tomato sauce\", \"peperoni\"]\n",
    "}\n",
    "```\n",
    "\n",
    "EXAMPLE:\n",
    "Can I get a large pizza with tomato sauce, basil and mozzarella\n",
    "JSON Response:\n",
    "```\n",
    "{\n",
    "\"size\": \"large\",\n",
    "\"type\": \"normal\",\n",
    "\"ingredients\": [\"tomato sauce\", \"basil\", \"mozzarella\"]\n",
    "}\n",
    "\n",
    "ORDER:\n",
    "\"\"\"\n",
    "\n",
    "customer_order = \"Give me a large with cheese & pineapple\"\n",
    "\n",
    "\n",
    "response = model.generate_content([few_shot_prompt, customer_order], request_options=retry_policy)\n",
    "print(response.text)"
   ]
  },
  {
   "cell_type": "markdown",
   "metadata": {
    "id": "021293096f08"
   },
   "source": [
    "#### JSON mode\n",
    "\n",
    "To provide control over the schema, and to ensure that you only receive JSON (with no other text or markdown), you can use the Gemini API's [JSON mode](https://github.com/google-gemini/cookbook/blob/main/quickstarts/JSON_mode.ipynb). This forces the model to constrain decoding, such that token selection is guided by the supplied schema."
   ]
  },
  {
   "cell_type": "code",
   "execution_count": 39,
   "metadata": {
    "execution": {
     "iopub.execute_input": "2024-11-13T10:06:40.049724Z",
     "iopub.status.busy": "2024-11-13T10:06:40.048816Z",
     "iopub.status.idle": "2024-11-13T10:06:40.620654Z",
     "shell.execute_reply": "2024-11-13T10:06:40.619638Z",
     "shell.execute_reply.started": "2024-11-13T10:06:40.049676Z"
    },
    "id": "50fbf0260912",
    "trusted": true
   },
   "outputs": [
    {
     "name": "stdout",
     "output_type": "stream",
     "text": [
      "{\"ingredients\": [\"apple\", \"chocolate\"], \"size\": \"large\", \"type\": \"dessert pizza\"}\n"
     ]
    }
   ],
   "source": [
    "import typing_extensions as typing\n",
    "\n",
    "class PizzaOrder(typing.TypedDict):\n",
    "    size: str\n",
    "    ingredients: list[str]\n",
    "    type: str\n",
    "\n",
    "\n",
    "model = genai.GenerativeModel(\n",
    "    'gemini-1.5-flash-latest',\n",
    "    generation_config=genai.GenerationConfig(\n",
    "        temperature=0.1,\n",
    "        response_mime_type=\"application/json\",\n",
    "        response_schema=PizzaOrder,\n",
    "    ))\n",
    "\n",
    "response = model.generate_content(\"Can I have a large dessert pizza with apple and chocolate\")\n",
    "print(response.text)"
   ]
  },
  {
   "cell_type": "markdown",
   "metadata": {
    "id": "4a93e338e57c"
   },
   "source": [
    "### Chain of Thought (CoT)\n",
    "\n",
    "Direct prompting on LLMs can return answers quickly and (in terms of output token usage) efficiently, but they can be prone to hallucination. The answer may \"look\" correct (in terms of language and syntax) but is incorrect in terms of factuality and reasoning.\n",
    "\n",
    "Chain-of-Thought prompting is a technique where you instruct the model to output intermediate reasoning steps, and it typically gets better results, especially when combined with few-shot examples. It is worth noting that this technique doesn't completely eliminate hallucinations, and that it tends to cost more to run, due to the increased token count.\n",
    "\n",
    "As models like the Gemini family are trained to be \"chatty\" and provide reasoning steps, you can ask the model to be more direct in the prompt."
   ]
  },
  {
   "cell_type": "code",
   "execution_count": 40,
   "metadata": {
    "execution": {
     "iopub.execute_input": "2024-11-13T10:08:50.901671Z",
     "iopub.status.busy": "2024-11-13T10:08:50.900618Z",
     "iopub.status.idle": "2024-11-13T10:08:51.369367Z",
     "shell.execute_reply": "2024-11-13T10:08:51.368311Z",
     "shell.execute_reply.started": "2024-11-13T10:08:50.901614Z"
    },
    "id": "5715555db1c1",
    "trusted": true
   },
   "outputs": [
    {
     "name": "stdout",
     "output_type": "stream",
     "text": [
      "47\n",
      "\n"
     ]
    }
   ],
   "source": [
    "prompt = \"\"\"When I was 4 years old, my partner was 3 times my age. Now, I\n",
    "am 20 years old. How old is my partner? Return the answer directly.\"\"\"\n",
    "\n",
    "model = genai.GenerativeModel('gemini-1.5-flash-latest')\n",
    "response = model.generate_content(prompt, request_options=retry_policy)\n",
    "\n",
    "print(response.text)"
   ]
  },
  {
   "cell_type": "markdown",
   "metadata": {
    "id": "e12b19677bfd"
   },
   "source": [
    "Now try the same approach, but indicate to the model that it should \"think step by step\"."
   ]
  },
  {
   "cell_type": "code",
   "execution_count": 42,
   "metadata": {
    "execution": {
     "iopub.execute_input": "2024-11-13T10:06:41.383203Z",
     "iopub.status.busy": "2024-11-13T10:06:41.382894Z",
     "iopub.status.idle": "2024-11-13T10:06:42.119919Z",
     "shell.execute_reply": "2024-11-13T10:06:42.117765Z",
     "shell.execute_reply.started": "2024-11-13T10:06:41.383171Z"
    },
    "id": "ffd7536a481f",
    "trusted": true
   },
   "outputs": [
    {
     "name": "stdout",
     "output_type": "stream",
     "text": [
      "Here's how to solve this step-by-step:\n",
      "\n",
      "1. **Partner's age when you were 4:** When you were 4, your partner was 3 times your age, meaning they were 4 * 3 = 12 years old.\n",
      "\n",
      "2. **Age difference:** The age difference between you and your partner is 12 - 4 = 8 years.\n",
      "\n",
      "3. **Partner's current age:**  Since you are now 20, your partner is 20 + 8 = 28 years old.\n",
      "\n"
     ]
    },
    {
     "data": {
      "text/markdown": [
       "Here's how to solve this step-by-step:\n",
       "\n",
       "1. **Partner's age when you were 4:** When you were 4, your partner was 3 times your age, meaning they were 4 * 3 = 12 years old.\n",
       "\n",
       "2. **Age difference:** The age difference between you and your partner is 12 - 4 = 8 years.\n",
       "\n",
       "3. **Partner's current age:**  Since you are now 20, your partner is 20 + 8 = 28 years old.\n"
      ],
      "text/plain": [
       "<IPython.core.display.Markdown object>"
      ]
     },
     "execution_count": 42,
     "metadata": {},
     "output_type": "execute_result"
    }
   ],
   "source": [
    "prompt = \"\"\"When I was 4 years old, my partner was 3 times my age. Now,\n",
    "I am 20 years old. How old is my partner? Let's think step by step.\"\"\"\n",
    "\n",
    "response = model.generate_content(prompt, request_options=retry_policy)\n",
    "print(response.text)\n",
    "\n",
    "Markdown(response.text)"
   ]
  },
  {
   "cell_type": "markdown",
   "metadata": {
    "id": "oiLgBQJj0V53"
   },
   "source": [
    "### ReAct: Reason and act\n",
    "\n",
    "In this example you will run a ReAct prompt directly in the Gemini API and perform the searching steps yourself. As this prompt follows a well-defined structure, there are frameworks available that wrap the prompt into easier-to-use APIs that make tool calls automatically, such as the LangChain example from the chapter.\n",
    "\n",
    "To try this out with the Wikipedia search engine, check out the [Searching Wikipedia with ReAct](https://github.com/google-gemini/cookbook/blob/main/examples/Search_Wikipedia_using_ReAct.ipynb) cookbook example.\n",
    "\n",
    "\n",
    "> Note: The prompt and in-context examples used here are from [https://github.com/ysymyth/ReAct](https://github.com/ysymyth/ReAct) which is published under a [MIT license](https://opensource.org/licenses/MIT), Copyright (c) 2023 Shunyu Yao.\n",
    "\n",
    "<table align=left>\n",
    "  <td>\n",
    "    <a target=\"_blank\" href=\"https://aistudio.google.com/prompts/18oo63Lwosd-bQ6Ay51uGogB3Wk3H8XMO\"><img src=\"https://ai.google.dev/site-assets/images/marketing/home/icon-ais.png\" style=\"height: 24px\" height=24/> Open in AI Studio</a>\n",
    "  </td>\n",
    "</table>\n"
   ]
  },
  {
   "cell_type": "code",
   "execution_count": 43,
   "metadata": {
    "execution": {
     "iopub.execute_input": "2024-11-13T10:06:42.121712Z",
     "iopub.status.busy": "2024-11-13T10:06:42.121364Z",
     "iopub.status.idle": "2024-11-13T10:06:42.128806Z",
     "shell.execute_reply": "2024-11-13T10:06:42.127748Z",
     "shell.execute_reply.started": "2024-11-13T10:06:42.121677Z"
    },
    "id": "cBgyNJ5z0VSs",
    "trusted": true
   },
   "outputs": [],
   "source": [
    "model_instructions = \"\"\"\n",
    "Solve a question answering task with interleaving Thought, Action, Observation steps. Thought can reason about the current situation,\n",
    "Observation is understanding relevant information from an Action's output and Action can be one of three types:\n",
    " (1) <search>entity</search>, which searches the exact entity on Wikipedia and returns the first paragraph if it exists. If not, it\n",
    "     will return some similar entities to search and you can try to search the information from those topics.\n",
    " (2) <lookup>keyword</lookup>, which returns the next sentence containing keyword in the current context. This only does exact matches,\n",
    "     so keep your searches short.\n",
    " (3) <finish>answer</finish>, which returns the answer and finishes the task.\n",
    "\"\"\"\n",
    "\n",
    "example1 = \"\"\"Question\n",
    "Musician and satirist Allie Goertz wrote a song about the \"The Simpsons\" character Milhouse, who Matt Groening named after who?\n",
    "\n",
    "Thought 1\n",
    "The question simplifies to \"The Simpsons\" character Milhouse is named after who. I only need to search Milhouse and find who it is named after.\n",
    "\n",
    "Action 1\n",
    "<search>Milhouse</search>\n",
    "\n",
    "Observation 1\n",
    "Milhouse Mussolini Van Houten is a recurring character in the Fox animated television series The Simpsons voiced by Pamela Hayden and created by Matt Groening.\n",
    "\n",
    "Thought 2\n",
    "The paragraph does not tell who Milhouse is named after, maybe I can look up \"named after\".\n",
    "\n",
    "Action 2\n",
    "<lookup>named after</lookup>\n",
    "\n",
    "Observation 2\n",
    "Milhouse was named after U.S. president Richard Nixon, whose middle name was Milhous.\n",
    "\n",
    "Thought 3\n",
    "Milhouse was named after U.S. president Richard Nixon, so the answer is Richard Nixon.\n",
    "\n",
    "Action 3\n",
    "<finish>Richard Nixon</finish>\n",
    "\"\"\"\n",
    "\n",
    "example2 = \"\"\"Question\n",
    "What is the elevation range for the area that the eastern sector of the Colorado orogeny extends into?\n",
    "\n",
    "Thought 1\n",
    "I need to search Colorado orogeny, find the area that the eastern sector of the Colorado orogeny extends into, then find the elevation range of the area.\n",
    "\n",
    "Action 1\n",
    "<search>Colorado orogeny</search>\n",
    "\n",
    "Observation 1\n",
    "The Colorado orogeny was an episode of mountain building (an orogeny) in Colorado and surrounding areas.\n",
    "\n",
    "Thought 2\n",
    "It does not mention the eastern sector. So I need to look up eastern sector.\n",
    "\n",
    "Action 2\n",
    "<lookup>eastern sector</lookup>\n",
    "\n",
    "Observation 2\n",
    "The eastern sector extends into the High Plains and is called the Central Plains orogeny.\n",
    "\n",
    "Thought 3\n",
    "The eastern sector of Colorado orogeny extends into the High Plains. So I need to search High Plains and find its elevation range.\n",
    "\n",
    "Action 3\n",
    "<search>High Plains</search>\n",
    "\n",
    "Observation 3\n",
    "High Plains refers to one of two distinct land regions\n",
    "\n",
    "Thought 4\n",
    "I need to instead search High Plains (United States).\n",
    "\n",
    "Action 4\n",
    "<search>High Plains (United States)</search>\n",
    "\n",
    "Observation 4\n",
    "The High Plains are a subregion of the Great Plains. From east to west, the High Plains rise in elevation from around 1,800 to 7,000 ft (550 to 2,130m).\n",
    "\n",
    "Thought 5\n",
    "High Plains rise in elevation from around 1,800 to 7,000 ft, so the answer is 1,800 to 7,000 ft.\n",
    "\n",
    "Action 5\n",
    "<finish>1,800 to 7,000 ft</finish>\n",
    "\"\"\"\n",
    "\n",
    "# Come up with more examples yourself, or take a look through https://github.com/ysymyth/ReAct/"
   ]
  },
  {
   "cell_type": "markdown",
   "metadata": {
    "id": "C3wbfstjTgey"
   },
   "source": [
    "To capture a single step at a time, while ignoring any hallucinated Observation steps, you will use `stop_sequences` to end the generation process. The steps are `Thought`, `Action`, `Observation`, in that order."
   ]
  },
  {
   "cell_type": "code",
   "execution_count": 44,
   "metadata": {
    "execution": {
     "iopub.execute_input": "2024-11-13T10:06:42.130517Z",
     "iopub.status.busy": "2024-11-13T10:06:42.130137Z",
     "iopub.status.idle": "2024-11-13T10:06:43.924798Z",
     "shell.execute_reply": "2024-11-13T10:06:43.92352Z",
     "shell.execute_reply.started": "2024-11-13T10:06:42.130483Z"
    },
    "id": "8mxrXRkRTdXm",
    "trusted": true
   },
   "outputs": [
    {
     "name": "stdout",
     "output_type": "stream",
     "text": [
      "Thought 1:\n",
      "I need to find the Transformers NLP paper and then find the authors' ages to determine the youngest.  This will require searching for the paper and then likely some additional searching to find author ages.\n",
      "\n",
      "Action 1:\n",
      "<search>Transformers NLP paper</search>\n",
      "\n"
     ]
    }
   ],
   "source": [
    "question = \"\"\"Question\n",
    "Who was the youngest author listed on the transformers NLP paper?\n",
    "\"\"\"\n",
    "\n",
    "model = genai.GenerativeModel('gemini-1.5-flash-latest')\n",
    "react_chat = model.start_chat()\n",
    "\n",
    "# You will perform the Action, so generate up to, but not including, the Observation.\n",
    "config = genai.GenerationConfig(stop_sequences=[\"\\nObservation\"])\n",
    "\n",
    "resp = react_chat.send_message(\n",
    "    [model_instructions, example1, example2, question],\n",
    "    generation_config=config,\n",
    "    request_options=retry_policy)\n",
    "print(resp.text)"
   ]
  },
  {
   "cell_type": "markdown",
   "metadata": {
    "id": "aW2PIdLbVv3l"
   },
   "source": [
    "Now you can perform this research yourself and supply it back to the model."
   ]
  },
  {
   "cell_type": "code",
   "execution_count": 45,
   "metadata": {
    "execution": {
     "iopub.execute_input": "2024-11-13T10:06:43.926446Z",
     "iopub.status.busy": "2024-11-13T10:06:43.926029Z",
     "iopub.status.idle": "2024-11-13T10:06:44.600318Z",
     "shell.execute_reply": "2024-11-13T10:06:44.599102Z",
     "shell.execute_reply.started": "2024-11-13T10:06:43.926397Z"
    },
    "id": "mLMc0DZaV9g2",
    "trusted": true
   },
   "outputs": [
    {
     "name": "stdout",
     "output_type": "stream",
     "text": [
      "Thought 2:\n",
      "The observation gives me the authors of the paper \"Attention is All You Need\".  I need to find their ages. This will likely require separate searches for each author.  It's unlikely I'll find exact ages readily available, so I might need to settle for an approximation based on when they did their PhD or other significant life events.\n",
      "\n",
      "Action 2:\n",
      "<search>Ashish Vaswani age>\n",
      "\n",
      "\n",
      "\n"
     ]
    }
   ],
   "source": [
    "observation = \"\"\"Observation 1\n",
    "[1706.03762] Attention Is All You Need\n",
    "Ashish Vaswani, Noam Shazeer, Niki Parmar, Jakob Uszkoreit, Llion Jones, Aidan N. Gomez, Lukasz Kaiser, Illia Polosukhin\n",
    "We propose a new simple network architecture, the Transformer, based solely on attention mechanisms, dispensing with recurrence and convolutions entirely.\n",
    "\"\"\"\n",
    "resp = react_chat.send_message(observation, generation_config=config, request_options=retry_policy)\n",
    "print(resp.text)"
   ]
  },
  {
   "cell_type": "markdown",
   "metadata": {
    "id": "bo0tzf4nX6dA"
   },
   "source": [
    "This process repeats until the `<finish>` action is reached. You can continue running this yourself if you like, or try the [Wikipedia example](https://github.com/google-gemini/cookbook/blob/main/examples/Search_Wikipedia_using_ReAct.ipynb) to see a fully automated ReAct system at work."
   ]
  },
  {
   "cell_type": "markdown",
   "metadata": {
    "id": "jPiZ_eIIaVPt"
   },
   "source": [
    "## Code prompting"
   ]
  },
  {
   "cell_type": "markdown",
   "metadata": {
    "id": "ZinKamwXeR6C"
   },
   "source": [
    "### Generating code\n",
    "\n",
    "The Gemini family of models can be used to generate code, configuration and scripts. Generating code can be helpful when learning to code, learning a new language or for rapidly generating a first draft.\n",
    "\n",
    "It's important to be aware that since LLMs can't reason, and can repeat training data, it's essential to read and test your code first, and comply with any relevant licenses.\n",
    "\n",
    "<table align=left>\n",
    "  <td>\n",
    "    <a target=\"_blank\" href=\"https://aistudio.google.com/prompts/1YX71JGtzDjXQkgdes8bP6i3oH5lCRKxv\"><img src=\"https://ai.google.dev/site-assets/images/marketing/home/icon-ais.png\" style=\"height: 24px\" height=24/> Open in AI Studio</a>\n",
    "  </td>\n",
    "</table>"
   ]
  },
  {
   "cell_type": "code",
   "execution_count": 46,
   "metadata": {
    "execution": {
     "iopub.execute_input": "2024-11-13T10:06:44.602109Z",
     "iopub.status.busy": "2024-11-13T10:06:44.60167Z",
     "iopub.status.idle": "2024-11-13T10:06:45.148912Z",
     "shell.execute_reply": "2024-11-13T10:06:45.147899Z",
     "shell.execute_reply.started": "2024-11-13T10:06:44.602073Z"
    },
    "id": "fOQP9pqmeUO1",
    "trusted": true
   },
   "outputs": [
    {
     "data": {
      "text/markdown": [
       "```python\n",
       "def factorial(n):\n",
       "  if n == 0:\n",
       "    return 1\n",
       "  else:\n",
       "    return n * factorial(n-1)\n",
       "```\n"
      ],
      "text/plain": [
       "<IPython.core.display.Markdown object>"
      ]
     },
     "execution_count": 46,
     "metadata": {},
     "output_type": "execute_result"
    }
   ],
   "source": [
    "model = genai.GenerativeModel(\n",
    "    'gemini-1.5-flash-latest',\n",
    "    generation_config=genai.GenerationConfig(\n",
    "        temperature=1,\n",
    "        top_p=1,\n",
    "        max_output_tokens=1024,\n",
    "    ))\n",
    "\n",
    "# Gemini 1.5 models are very chatty, so it helps to specify they stick to the code.\n",
    "code_prompt = \"\"\"\n",
    "Write a Python function to calculate the factorial of a number. No explanation, provide only the code.\n",
    "\"\"\"\n",
    "\n",
    "response = model.generate_content(code_prompt, request_options=retry_policy)\n",
    "Markdown(response.text)"
   ]
  },
  {
   "cell_type": "markdown",
   "metadata": {
    "id": "wlBMWSFhgVRQ"
   },
   "source": [
    "### Code execution\n",
    "\n",
    "The Gemini API can automatically run generated code too, and will return the output.\n",
    "\n",
    "<table align=left>\n",
    "  <td>\n",
    "    <a target=\"_blank\" href=\"https://aistudio.google.com/prompts/11veFr_VYEwBWcLkhNLr-maCG0G8sS_7Z\"><img src=\"https://ai.google.dev/site-assets/images/marketing/home/icon-ais.png\" style=\"height: 24px\" height=24/> Open in AI Studio</a>\n",
    "  </td>\n",
    "</table>"
   ]
  },
  {
   "cell_type": "code",
   "execution_count": 50,
   "metadata": {
    "execution": {
     "iopub.execute_input": "2024-11-13T10:06:45.151162Z",
     "iopub.status.busy": "2024-11-13T10:06:45.150314Z",
     "iopub.status.idle": "2024-11-13T10:06:47.30487Z",
     "shell.execute_reply": "2024-11-13T10:06:47.303541Z",
     "shell.execute_reply.started": "2024-11-13T10:06:45.151114Z"
    },
    "id": "jT3OfWYfhjRL",
    "trusted": true
   },
   "outputs": [
    {
     "data": {
      "text/markdown": [],
      "text/plain": [
       "<IPython.core.display.Markdown object>"
      ]
     },
     "execution_count": 50,
     "metadata": {},
     "output_type": "execute_result"
    }
   ],
   "source": [
    "model = genai.GenerativeModel(\n",
    "    'gemini-1.5-flash-latest',\n",
    "    tools='code_execution',)\n",
    "\n",
    "code_exec_prompt = \"\"\"\n",
    "Calculate the sum of the first 14 prime numbers. Only consider the odd primes, and make sure you count them all.\n",
    "\"\"\"\n",
    "\n",
    "response = model.generate_content(code_exec_prompt, request_options=retry_policy)\n",
    "Markdown(response.text)"
   ]
  },
  {
   "cell_type": "markdown",
   "metadata": {
    "id": "ZspT1GSkjG6d"
   },
   "source": [
    "While this looks like a single-part response, you can inspect the response to see the each of the steps: initial text, code generation, execution results, and final text summary."
   ]
  },
  {
   "cell_type": "code",
   "execution_count": 52,
   "metadata": {
    "execution": {
     "iopub.execute_input": "2024-11-13T10:06:47.306489Z",
     "iopub.status.busy": "2024-11-13T10:06:47.306141Z",
     "iopub.status.idle": "2024-11-13T10:06:47.311943Z",
     "shell.execute_reply": "2024-11-13T10:06:47.310828Z",
     "shell.execute_reply.started": "2024-11-13T10:06:47.306447Z"
    },
    "id": "j4gQVzcRjRX-",
    "trusted": true
   },
   "outputs": [
    {
     "name": "stdout",
     "output_type": "stream",
     "text": [
      "text: \"\"\n",
      "\n",
      "-----\n"
     ]
    }
   ],
   "source": [
    "for part in response.candidates[0].content.parts:\n",
    "  print(part)\n",
    "  print(\"-----\")"
   ]
  },
  {
   "cell_type": "markdown",
   "metadata": {
    "id": "1gUX8QzCj4d5"
   },
   "source": [
    "### Explaining code\n",
    "\n",
    "The Gemini family of models can explain code to you too.\n",
    "\n",
    "<table align=left>\n",
    "  <td>\n",
    "    <a target=\"_blank\" href=\"https://aistudio.google.com/prompts/1N7LGzWzCYieyOf_7bAG4plrmkpDNmUyb\"><img src=\"https://ai.google.dev/site-assets/images/marketing/home/icon-ais.png\" style=\"height: 24px\" height=24/> Open in AI Studio</a>\n",
    "  </td>\n",
    "</table>"
   ]
  },
  {
   "cell_type": "code",
   "execution_count": 53,
   "metadata": {
    "execution": {
     "iopub.execute_input": "2024-11-13T10:06:47.313493Z",
     "iopub.status.busy": "2024-11-13T10:06:47.313178Z",
     "iopub.status.idle": "2024-11-13T10:06:50.71311Z",
     "shell.execute_reply": "2024-11-13T10:06:50.712084Z",
     "shell.execute_reply.started": "2024-11-13T10:06:47.31346Z"
    },
    "id": "7_jPMMoxkIEb",
    "trusted": true
   },
   "outputs": [
    {
     "data": {
      "text/markdown": [
       "This file is a bash script that enhances your shell prompt to display information about your current Git repository.  Think of it as a highly customizable Git status indicator for your terminal.\n",
       "\n",
       "**What it does:**\n",
       "\n",
       "At a high level, the script adds to your shell prompt (the line you type commands into) details like:\n",
       "\n",
       "* **Current branch:**  The name of the Git branch you're on.\n",
       "* **Ahead/Behind indicators:** How many commits you're ahead of or behind the remote repository.\n",
       "* **Changes:**  Information about uncommitted changes (added, modified, deleted files).\n",
       "* **Status:** Whether the repository is clean or has changes.\n",
       "* **Optional features:** It can display the username and repository URL, show the status of upstream branches, and more, all highly configurable.  It also supports various themes to change the colors and formatting.\n",
       "\n",
       "**Why you would use it:**\n",
       "\n",
       "You'd use this script if you work with Git frequently and want a quick, visual representation of your repository's state directly in your terminal.  This avoids needing to constantly run `git status` to check your branch and changes. The customization options allow you to tailor the output to precisely what information you find most useful.\n"
      ],
      "text/plain": [
       "<IPython.core.display.Markdown object>"
      ]
     },
     "execution_count": 53,
     "metadata": {},
     "output_type": "execute_result"
    }
   ],
   "source": [
    "file_contents = !curl https://raw.githubusercontent.com/magicmonty/bash-git-prompt/refs/heads/master/gitprompt.sh\n",
    "\n",
    "explain_prompt = f\"\"\"\n",
    "Please explain what this file does at a very high level. What is it, and why would I use it?\n",
    "\n",
    "```\n",
    "{file_contents}\n",
    "```\n",
    "\"\"\"\n",
    "\n",
    "model = genai.GenerativeModel('gemini-1.5-flash-latest')\n",
    "\n",
    "response = model.generate_content(explain_prompt, request_options=retry_policy)\n",
    "Markdown(response.text)"
   ]
  },
  {
   "cell_type": "markdown",
   "metadata": {
    "id": "2a8266d97ce5"
   },
   "source": [
    "## Learn more\n",
    "\n",
    "To learn more about prompting in depth:\n",
    "\n",
    "* Check out the whitepaper issued with today's content,\n",
    "* Try out the apps listed at the top of this notebook ([TextFX](https://textfx.withgoogle.com/), [SQL Talk](https://sql-talk-r5gdynozbq-uc.a.run.app/) and [NotebookLM](https://notebooklm.google/)),\n",
    "* Read the [Introduction to Prompting](https://ai.google.dev/gemini-api/docs/prompting-intro) from the Gemini API docs,\n",
    "* Explore the Gemini API's [prompt gallery](https://ai.google.dev/gemini-api/prompts) and try them out in AI Studio,\n",
    "* Check out the Gemini API cookbook for [inspirational examples](https://github.com/google-gemini/cookbook/blob/main/examples/) and [educational quickstarts](https://github.com/google-gemini/cookbook/blob/main/quickstarts/).\n",
    "\n",
    "And please share anything exciting you have tried in the Discord!"
   ]
  }
 ],
 "metadata": {
  "colab": {
   "name": "day-1-prompting.ipynb",
   "toc_visible": true
  },
  "kaggle": {
   "accelerator": "none",
   "dataSources": [],
   "dockerImageVersionId": 30786,
   "isGpuEnabled": false,
   "isInternetEnabled": true,
   "language": "python",
   "sourceType": "notebook"
  },
  "kernelspec": {
   "display_name": "myvenv",
   "language": "python",
   "name": "python3"
  },
  "language_info": {
   "codemirror_mode": {
    "name": "ipython",
    "version": 3
   },
   "file_extension": ".py",
   "mimetype": "text/x-python",
   "name": "python",
   "nbconvert_exporter": "python",
   "pygments_lexer": "ipython3",
   "version": "3.13.1"
  }
 },
 "nbformat": 4,
 "nbformat_minor": 4
}
